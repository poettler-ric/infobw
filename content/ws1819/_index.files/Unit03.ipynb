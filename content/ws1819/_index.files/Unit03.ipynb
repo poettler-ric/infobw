{
 "cells": [
  {
   "cell_type": "markdown",
   "metadata": {},
   "source": [
    "# Unit 03 - Functions"
   ]
  },
  {
   "cell_type": "markdown",
   "metadata": {},
   "source": [
    "A python program is executed linewise from top to bottom. There are several ways to influence the flow of a program:\n",
    "\n",
    "- `if`/`else`\n",
    "- `while`\n",
    "- `for`\n",
    "- functions"
   ]
  },
  {
   "cell_type": "markdown",
   "metadata": {},
   "source": [
    "General form:"
   ]
  },
  {
   "cell_type": "code",
   "execution_count": 2,
   "metadata": {},
   "outputs": [],
   "source": [
    "def my_func(arg1, arg2):\n",
    "    return None\n",
    "    pass"
   ]
  },
  {
   "cell_type": "markdown",
   "metadata": {},
   "source": [
    "Example:"
   ]
  },
  {
   "cell_type": "code",
   "execution_count": 10,
   "metadata": {},
   "outputs": [
    {
     "name": "stdout",
     "output_type": "stream",
     "text": [
      "bigger: 8\n",
      "volume is: 6\n"
     ]
    }
   ],
   "source": [
    "def my_max(a, b):\n",
    "    if a > b:\n",
    "        return a\n",
    "    else:\n",
    "        return b\n",
    "\n",
    "def volume(width, depth, height):\n",
    "    result = width * depth * height\n",
    "    return result\n",
    "\n",
    "n1, n2 = 5, 8\n",
    "print(\"bigger: {}\".format(my_max(n1, n2)))\n",
    "print(\"volume is: {}\".format(volume(1, 2, 3)))"
   ]
  },
  {
   "cell_type": "markdown",
   "metadata": {},
   "source": [
    "## Default arguments"
   ]
  },
  {
   "cell_type": "code",
   "execution_count": 1,
   "metadata": {},
   "outputs": [
    {
     "name": "stdout",
     "output_type": "stream",
     "text": [
      "My name is Richi Poettler\n",
      "My name is Richi Peter\n",
      "My name is Hans Poettler\n",
      "My name is Hans Peter\n"
     ]
    }
   ],
   "source": [
    "def another_func(a=\"Hans\", b=\"Peter\"):\n",
    "    print(\"My name is {} {}\".format(a, b))\n",
    "    \n",
    "another_func(\"Richi\", \"Poettler\")\n",
    "another_func(\"Richi\")\n",
    "another_func(b=\"Poettler\")\n",
    "another_func()"
   ]
  },
  {
   "cell_type": "markdown",
   "metadata": {},
   "source": [
    "# Example"
   ]
  },
  {
   "cell_type": "markdown",
   "metadata": {},
   "source": [
    "Write a fuction `my_range` which simulates the `range` function."
   ]
  },
  {
   "cell_type": "code",
   "execution_count": 7,
   "metadata": {},
   "outputs": [
    {
     "name": "stdout",
     "output_type": "stream",
     "text": [
      "[0, 1, 2, 3, 4, 5, 6, 7, 8, 9]\n"
     ]
    }
   ],
   "source": [
    "def my_range(start, stop, step=1):\n",
    "    result = []\n",
    "    i = start\n",
    "    while i < stop:\n",
    "        result.append(i)\n",
    "        i += step\n",
    "    return result\n",
    "\n",
    "print(my_range(0, 10))"
   ]
  },
  {
   "cell_type": "markdown",
   "metadata": {},
   "source": [
    "Write a function `is_prime` which returns `True` if the given number is a prime."
   ]
  },
  {
   "cell_type": "code",
   "execution_count": 9,
   "metadata": {},
   "outputs": [
    {
     "name": "stdout",
     "output_type": "stream",
     "text": [
      "False\n",
      "True\n"
     ]
    }
   ],
   "source": [
    "def is_prime(n):\n",
    "    for i in range(2, n):\n",
    "        if n % i == 0:\n",
    "            return False\n",
    "    return True\n",
    "\n",
    "print(is_prime(6))\n",
    "print(is_prime(7))"
   ]
  },
  {
   "cell_type": "markdown",
   "metadata": {},
   "source": [
    "# Student Example\n",
    "\n",
    "Write a function `my_average` which takes a list of numbers and returns the mean value of those numbers."
   ]
  },
  {
   "cell_type": "code",
   "execution_count": 10,
   "metadata": {},
   "outputs": [
    {
     "data": {
      "text/plain": [
       "4.5"
      ]
     },
     "execution_count": 10,
     "metadata": {},
     "output_type": "execute_result"
    }
   ],
   "source": [
    "def my_sum(numbers):\n",
    "    result = 0\n",
    "    for i in numbers:\n",
    "        result += i\n",
    "    return result\n",
    "\n",
    "def my_average(numbers):\n",
    "    return my_sum(numbers)/len(numbers)\n",
    "\n",
    "l = list(range(10))\n",
    "my_average(l)"
   ]
  },
  {
   "cell_type": "markdown",
   "metadata": {},
   "source": [
    "Write a function `login` which takes a username and password. The function should return `True` if the given username and password match."
   ]
  },
  {
   "cell_type": "code",
   "execution_count": 11,
   "metadata": {},
   "outputs": [
    {
     "name": "stdout",
     "output_type": "stream",
     "text": [
      "user: user1\n",
      "password: aaa\n",
      "True\n"
     ]
    }
   ],
   "source": [
    "LOGINS = ['user1', 'user2']\n",
    "PASSWORDS = ['aaa', 'bbb']\n",
    "\n",
    "def login(user, password):\n",
    "    if user not in LOGINS:\n",
    "        return False\n",
    "    if password != PASSWORDS[LOGINS.index(user)]:\n",
    "        return False\n",
    "    return True\n",
    "\n",
    "user = input(\"user: \")\n",
    "password = input(\"password: \")\n",
    "print(login(user, password))"
   ]
  },
  {
   "cell_type": "markdown",
   "metadata": {},
   "source": [
    "# Loesung Assignment 1"
   ]
  },
  {
   "cell_type": "code",
   "execution_count": 4,
   "metadata": {},
   "outputs": [
    {
     "name": "stdout",
     "output_type": "stream",
     "text": [
      "enter a number: 1\n",
      "enter a number: 2\n",
      "enter a number: 3\n",
      "enter a number: 3\n",
      "enter a number: 5\n",
      "3\n"
     ]
    }
   ],
   "source": [
    "NUMBER_COUNT = 5\n",
    "\n",
    "all_numbers = []\n",
    "\n",
    "# read x numbers\n",
    "for i in range(NUMBER_COUNT):\n",
    "    all_numbers.append(int(input(\"enter a number: \")))\n",
    "\n",
    "# filter unique numbers\n",
    "unique_numbers = []\n",
    "for i in all_numbers:\n",
    "    if i not in unique_numbers:\n",
    "        unique_numbers.append(i)\n",
    "\n",
    "# count occurences of unique numbers\n",
    "counts = []\n",
    "for i in unique_numbers:\n",
    "    count = 0\n",
    "    for j in all_numbers:\n",
    "        if i == j:\n",
    "            count += 1\n",
    "    counts.append(count)\n",
    "\n",
    "# find index of number with the most occurences\n",
    "index = 0\n",
    "maximum = counts[index]\n",
    "for i in range(1, len(counts)):\n",
    "    if counts[i] > maximum:\n",
    "        index = i\n",
    "        maximum = counts[index]\n",
    "\n",
    "print(unique_numbers[index])"
   ]
  },
  {
   "cell_type": "markdown",
   "metadata": {},
   "source": [
    "# Formating floats"
   ]
  },
  {
   "cell_type": "code",
   "execution_count": 17,
   "metadata": {},
   "outputs": [
    {
     "name": "stdout",
     "output_type": "stream",
     "text": [
      "0.3333333333333333\n",
      "0.3333333333333333\n",
      "0.333\n",
      "0.33333\n"
     ]
    }
   ],
   "source": [
    "n = 1/3\n",
    "print(n)\n",
    "print('{}'.format(n))\n",
    "print('{:.3f}'.format(n))\n",
    "print('{:.5f}'.format(n))"
   ]
  },
  {
   "cell_type": "code",
   "execution_count": null,
   "metadata": {},
   "outputs": [],
   "source": []
  }
 ],
 "metadata": {
  "kernelspec": {
   "display_name": "Python 3",
   "language": "python",
   "name": "python3"
  },
  "language_info": {
   "codemirror_mode": {
    "name": "ipython",
    "version": 3
   },
   "file_extension": ".py",
   "mimetype": "text/x-python",
   "name": "python",
   "nbconvert_exporter": "python",
   "pygments_lexer": "ipython3",
   "version": "3.6.6"
  }
 },
 "nbformat": 4,
 "nbformat_minor": 2
}
