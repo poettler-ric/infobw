{
 "cells": [
  {
   "cell_type": "markdown",
   "metadata": {},
   "source": [
    "# Solving Sudoku\n",
    "\n",
    "In the next unit(s) we will write a programm to solves udokus.\n",
    "\n",
    "## Part 1: Reading input file\n",
    "\n",
    "We start with a function `read_sudoku` which takes a `filename` and returns a 9x9 matrix of integers (two dimensional list e.g. `grid[row][column]`).\n",
    "\n",
    "The example file looks like this:\n",
    "```\n",
    "___ __5 26_\n",
    "__7 6_1 3_8\n",
    "6__ _7_ __5\n",
    "\n",
    "2_5 _3_ 7_1\n",
    "_1_ ___ _3_\n",
    "7_4 _8_ 9_2\n",
    "\n",
    "3__ _9_ __6\n",
    "4_6 2_3 8__\n",
    "_21 8__ ___\n",
    "```\n",
    "When reading the file spaces and blank lines are ignored. `_` mark unsolved fields, which will be represented in the retunred matrix as zeros. Raise a `ValueError` upon visiting another character. The usage of [string.digits](https://docs.python.org/3/library/string.html#string.digits) is allowed"
   ]
  },
  {
   "cell_type": "code",
   "execution_count": 3,
   "metadata": {},
   "outputs": [
    {
     "name": "stdout",
     "output_type": "stream",
     "text": [
      "[[0, 0, 0, 0, 0, 5, 2, 6, 0],\n",
      " [0, 0, 7, 6, 0, 1, 3, 0, 8],\n",
      " [6, 0, 0, 0, 7, 0, 0, 0, 5],\n",
      " [2, 0, 5, 0, 3, 0, 7, 0, 1],\n",
      " [0, 1, 0, 0, 0, 0, 0, 3, 0],\n",
      " [7, 0, 4, 0, 8, 0, 9, 0, 2],\n",
      " [3, 0, 0, 0, 9, 0, 0, 0, 6],\n",
      " [4, 0, 6, 2, 0, 3, 8, 0, 0],\n",
      " [0, 2, 1, 8, 0, 0, 0, 0, 0]]\n"
     ]
    }
   ],
   "source": [
    "from string import digits\n",
    "from pprint import pprint\n",
    "\n",
    "def read_sudoku(filename):\n",
    "    grid = []\n",
    "    with open(filename) as f:\n",
    "        for line in f:\n",
    "            line = line.strip()\n",
    "            \n",
    "            # ignore blank lines\n",
    "            if not line:\n",
    "                continue\n",
    "            \n",
    "            row = []\n",
    "            for c in line:\n",
    "                if c == ' ':\n",
    "                    continue\n",
    "                elif c == '_':\n",
    "                    row.append(0)\n",
    "                elif c in digits:\n",
    "                    row.append(int(c))\n",
    "                else:\n",
    "                    raise ValueError(f\"character '{c}' not allowed in input file\")\n",
    "            grid.append(row)\n",
    "    return grid\n",
    "                        \n",
    "pprint(read_sudoku('sudoku.txt'))"
   ]
  },
  {
   "cell_type": "markdown",
   "metadata": {},
   "source": [
    "## Part 2: Determining solved numbers\n",
    "\n",
    "Write a function `determine_present` which takes three arguments: `grid`, `row` and `column` and returns a list of numbers. The `grid` is the field read by `read_sudoku` and `row` and `column` (both zero based) specify a field on the grid.\n",
    "\n",
    "The returned list should consist of all solved cells:\n",
    "\n",
    "- on the same `row` as the specified cell\n",
    "- on the same `column` as the specified cell\n",
    "- in the same 9x9 subgrid as the specified cell\n",
    "\n",
    "The returned list should not contain `0` since it marks an unsolved cell. Every number should only appear once."
   ]
  },
  {
   "cell_type": "code",
   "execution_count": 1,
   "metadata": {},
   "outputs": [],
   "source": [
    "def determine_present(grid, row, column):\n",
    "    result = set()\n",
    "    # check row\n",
    "    result.update(grid[row])\n",
    "\n",
    "    # check column\n",
    "    for r in grid:\n",
    "        result.add(r[column])\n",
    "    \n",
    "    # check subgrid\n",
    "    first_row = int(row/3) * 3\n",
    "    first_column = int(column/3) * 3\n",
    "    for r in grid[first_row:first_row + 3]:\n",
    "        result.update(r[first_column:first_column + 3])\n",
    "    \n",
    "    if 0 in result:\n",
    "        result.remove(0)\n",
    "        \n",
    "    return list(result)"
   ]
  },
  {
   "cell_type": "markdown",
   "metadata": {},
   "source": [
    "## Part 3: Putting it all together\n",
    "\n",
    "Write a function `try_solve` one argument: `grid` and returns a (partly) solved grid. The `grid` is the field read by `read_sudoku`.\n",
    "\n",
    "The function should try to solve the given grid by iterating over all cells and determining whether an unsolved cell can be resolved. The number should be set and if no further fields can be resolved the altered grid should be returned."
   ]
  },
  {
   "cell_type": "code",
   "execution_count": null,
   "metadata": {},
   "outputs": [],
   "source": []
  }
 ],
 "metadata": {
  "kernelspec": {
   "display_name": "Python 3",
   "language": "python",
   "name": "python3"
  },
  "language_info": {
   "codemirror_mode": {
    "name": "ipython",
    "version": 3
   },
   "file_extension": ".py",
   "mimetype": "text/x-python",
   "name": "python",
   "nbconvert_exporter": "python",
   "pygments_lexer": "ipython3",
   "version": "3.6.6"
  }
 },
 "nbformat": 4,
 "nbformat_minor": 2
}
