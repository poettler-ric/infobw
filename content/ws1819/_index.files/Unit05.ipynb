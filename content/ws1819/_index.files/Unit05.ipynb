{
 "cells": [
  {
   "cell_type": "markdown",
   "metadata": {},
   "source": [
    "# Function as values\n",
    "\n",
    "Functions can be assigned to variables and then called afterwards. For simple functions the [lambda](https://docs.python.org/3/tutorial/controlflow.html#lambda-expressions) expression can be used."
   ]
  },
  {
   "cell_type": "code",
   "execution_count": 7,
   "metadata": {},
   "outputs": [
    {
     "name": "stdout",
     "output_type": "stream",
     "text": [
      "8\n",
      "8\n"
     ]
    }
   ],
   "source": [
    "def f1(n, m):\n",
    "    return n**m\n",
    "\n",
    "power = f1\n",
    "\n",
    "print(power(2, 3))\n",
    "\n",
    "power = lambda n, m: n**m\n",
    "\n",
    "print(power(2, 3))"
   ]
  },
  {
   "cell_type": "markdown",
   "metadata": {},
   "source": [
    "# Dictionaries\n",
    "\n",
    "\n",
    "[Dictionaries](https://docs.python.org/3/library/stdtypes.html#mapping-types-dict) form a mapping from a key value to a certain value (like a word dictionary).\n",
    "\n",
    "Syntax wise dictionaries are very similar to arrays. With the following mayor differences:\n",
    "\n",
    "- There is no defined order of the elements (the order might change from execution to execution)\n",
    "- Every key value must be hashable\n",
    "- Key values should be immutable\n",
    "\n",
    "General form:"
   ]
  },
  {
   "cell_type": "code",
   "execution_count": 35,
   "metadata": {},
   "outputs": [
    {
     "name": "stdout",
     "output_type": "stream",
     "text": [
      "{'key1': 'value1', 'akey2': 'value2', 'key3': 'value3'}\n"
     ]
    }
   ],
   "source": [
    "my_dict = {'key1': 'value1', 'key2': 'value2', 'key3': 'value3'}\n",
    "print(my_dict) # mind the order!"
   ]
  },
  {
   "cell_type": "markdown",
   "metadata": {},
   "source": [
    "E.g."
   ]
  },
  {
   "cell_type": "code",
   "execution_count": 33,
   "metadata": {},
   "outputs": [
    {
     "name": "stdout",
     "output_type": "stream",
     "text": [
      "10\n",
      "6\n",
      "{'apples': 5, 'eggs': 6}\n",
      "{'apples': 5, 'eggs': 6, 'beer': 6}\n"
     ]
    }
   ],
   "source": [
    "shopping_list = {\n",
    "    'apples': 5,\n",
    "    'salt': 1,\n",
    "    'eggs': 10,\n",
    "}\n",
    "\n",
    "# changing value\n",
    "print(shopping_list['eggs'])\n",
    "shopping_list['eggs'] = 6\n",
    "\n",
    "print(shopping_list['eggs'])\n",
    "\n",
    "# deleting value\n",
    "del(shopping_list['salt'])\n",
    "print(shopping_list)\n",
    "\n",
    "# adding a value to a dictionary\n",
    "shopping_list['beer'] = 6\n",
    "print(shopping_list)"
   ]
  },
  {
   "cell_type": "markdown",
   "metadata": {},
   "source": [
    "## Iterating over a dictionary\n",
    "\n",
    "Similar to lists.\n",
    "\n",
    "With a simple for loop you just iterate over the keys:"
   ]
  },
  {
   "cell_type": "code",
   "execution_count": 36,
   "metadata": {},
   "outputs": [
    {
     "name": "stdout",
     "output_type": "stream",
     "text": [
      "apples\n",
      "eggs\n",
      "beer\n"
     ]
    }
   ],
   "source": [
    "for i in shopping_list:\n",
    "    print(i)"
   ]
  },
  {
   "cell_type": "markdown",
   "metadata": {},
   "source": [
    "To get the values, too you need the ```.items()``` method:"
   ]
  },
  {
   "cell_type": "code",
   "execution_count": 40,
   "metadata": {},
   "outputs": [
    {
     "name": "stdout",
     "output_type": "stream",
     "text": [
      "apples -> 5\n",
      "eggs -> 6\n",
      "beer -> 6\n"
     ]
    }
   ],
   "source": [
    "for key, value in shopping_list.items():\n",
    "    print(f\"{key} -> {value}\")"
   ]
  },
  {
   "cell_type": "markdown",
   "metadata": {},
   "source": [
    "There is a possibility to get the whole thing sorted:"
   ]
  },
  {
   "cell_type": "code",
   "execution_count": 39,
   "metadata": {},
   "outputs": [
    {
     "name": "stdout",
     "output_type": "stream",
     "text": [
      "apples -> 5\n",
      "beer -> 6\n",
      "eggs -> 6\n"
     ]
    }
   ],
   "source": [
    "for key, value in sorted(shopping_list.items()):\n",
    "    print(f\"{key} -> {value}\")"
   ]
  },
  {
   "cell_type": "markdown",
   "metadata": {},
   "source": [
    "# Reading files\n",
    "\n",
    "To read a file it has first to be opened with the [open](https://docs.python.org/3/library/functions.html#open) function. After reading from the file it has to be closed with [close](https://docs.python.org/3/library/io.html#io.IOBase.close) to free up system ressources. To ensure the file is closed even if errors occurs it should be done in a `finally` block:"
   ]
  },
  {
   "cell_type": "code",
   "execution_count": 30,
   "metadata": {},
   "outputs": [
    {
     "name": "stdout",
     "output_type": "stream",
     "text": [
      "first line\n",
      "second line\n"
     ]
    }
   ],
   "source": [
    "try:\n",
    "    f = open('test.txt')\n",
    "    for line in f:\n",
    "        print(line.strip())\n",
    "finally:\n",
    "    f.close()"
   ]
  },
  {
   "cell_type": "markdown",
   "metadata": {},
   "source": [
    "[str.strip](https://docs.python.org/3/library/stdtypes.html#str.strip) is neccessary to remove tailing `\\n`."
   ]
  },
  {
   "cell_type": "markdown",
   "metadata": {},
   "source": [
    "With the [with](https://docs.python.org/3/reference/compound_stmts.html#the-with-statement) statement this can be reduced to:"
   ]
  },
  {
   "cell_type": "code",
   "execution_count": 31,
   "metadata": {},
   "outputs": [
    {
     "name": "stdout",
     "output_type": "stream",
     "text": [
      "first line\n",
      "second line\n"
     ]
    }
   ],
   "source": [
    "with open('test.txt') as f:\n",
    "    for line in f:\n",
    "        print(line.strip())"
   ]
  },
  {
   "cell_type": "markdown",
   "metadata": {},
   "source": [
    "# Parameter checking\n",
    "\n",
    "When writing functions it makes sense to ensure all given values are valid to guarantee the computation/execution of the function is successful. This is done by `raise`ing a `ValueError` to signal the caller something is not how it should be.\n",
    "\n",
    "General form:"
   ]
  },
  {
   "cell_type": "code",
   "execution_count": 42,
   "metadata": {},
   "outputs": [
    {
     "ename": "ValueError",
     "evalue": "the reason why it didn't work",
     "output_type": "error",
     "traceback": [
      "\u001b[0;31m---------------------------------------------------------------------------\u001b[0m",
      "\u001b[0;31mValueError\u001b[0m                                Traceback (most recent call last)",
      "\u001b[0;32m<ipython-input-42-a531560e98c3>\u001b[0m in \u001b[0;36m<module>\u001b[0;34m()\u001b[0m\n\u001b[1;32m      6\u001b[0m     \u001b[0;31m# remaining function code comes here\u001b[0m\u001b[0;34m\u001b[0m\u001b[0;34m\u001b[0m\u001b[0m\n\u001b[1;32m      7\u001b[0m \u001b[0;34m\u001b[0m\u001b[0m\n\u001b[0;32m----> 8\u001b[0;31m \u001b[0msome_func\u001b[0m\u001b[0;34m(\u001b[0m\u001b[0;34m\"some value\"\u001b[0m\u001b[0;34m)\u001b[0m\u001b[0;34m\u001b[0m\u001b[0m\n\u001b[0m",
      "\u001b[0;32m<ipython-input-42-a531560e98c3>\u001b[0m in \u001b[0;36msome_func\u001b[0;34m(some_par)\u001b[0m\n\u001b[1;32m      3\u001b[0m \u001b[0;32mdef\u001b[0m \u001b[0msome_func\u001b[0m\u001b[0;34m(\u001b[0m\u001b[0msome_par\u001b[0m\u001b[0;34m)\u001b[0m\u001b[0;34m:\u001b[0m\u001b[0;34m\u001b[0m\u001b[0m\n\u001b[1;32m      4\u001b[0m     \u001b[0;32mif\u001b[0m \u001b[0;32mnot\u001b[0m \u001b[0mparameter_checked_out\u001b[0m\u001b[0;34m:\u001b[0m\u001b[0;34m\u001b[0m\u001b[0m\n\u001b[0;32m----> 5\u001b[0;31m         \u001b[0;32mraise\u001b[0m \u001b[0mValueError\u001b[0m\u001b[0;34m(\u001b[0m\u001b[0;34m\"the reason why it didn't work\"\u001b[0m\u001b[0;34m)\u001b[0m\u001b[0;34m\u001b[0m\u001b[0m\n\u001b[0m\u001b[1;32m      6\u001b[0m     \u001b[0;31m# remaining function code comes here\u001b[0m\u001b[0;34m\u001b[0m\u001b[0;34m\u001b[0m\u001b[0m\n\u001b[1;32m      7\u001b[0m \u001b[0;34m\u001b[0m\u001b[0m\n",
      "\u001b[0;31mValueError\u001b[0m: the reason why it didn't work"
     ]
    }
   ],
   "source": [
    "parameter_checked_out = False\n",
    "\n",
    "def some_func(some_par):\n",
    "    if not parameter_checked_out:\n",
    "        raise ValueError(\"the reason why it didn't work\")\n",
    "    # remaining function code comes here\n",
    "        \n",
    "some_func(\"some value\")"
   ]
  },
  {
   "cell_type": "markdown",
   "metadata": {},
   "source": [
    "# Example\n",
    "\n",
    "Implement `calculate` function which takes 3 arguments: `number1`, `operator` and `number2`. Supported operations should be: `+`, `-`, `*` and `/`."
   ]
  },
  {
   "cell_type": "code",
   "execution_count": 1,
   "metadata": {},
   "outputs": [
    {
     "name": "stdout",
     "output_type": "stream",
     "text": [
      "number1: 3\n",
      "operator: *\n",
      "number2: 5\n",
      "15.0\n"
     ]
    }
   ],
   "source": [
    "OPERATIONS = {\n",
    "    '+': lambda a, b: a + b,\n",
    "    '-': lambda a, b: a - b,\n",
    "    '*': lambda a, b: a * b,\n",
    "    '/': lambda a, b: a / b,\n",
    "}\n",
    "\n",
    "def calculate(number1, operator, number2):\n",
    "    if operator not in OPERATIONS:\n",
    "        raise ValueError(f\"operator '{operator}' not supported\")\n",
    "    if operator == '/' and number2 == 0:\n",
    "        raise ValueError(f\"division by zero not allowed\")\n",
    "    return OPERATIONS[operator](number1, number2)\n",
    "\n",
    "n1 = float(input(\"number1: \"))\n",
    "o = input(\"operator: \")\n",
    "n2 = float(input(\"number2: \"))\n",
    "\n",
    "print(calculate(n1, o, n2))"
   ]
  },
  {
   "cell_type": "markdown",
   "metadata": {},
   "source": [
    "# Student Example"
   ]
  },
  {
   "cell_type": "markdown",
   "metadata": {},
   "source": [
    "## Login Function\n",
    "\n",
    "Write a function `login` which takes a username and password. The function should return `True` if the given username and password match."
   ]
  },
  {
   "cell_type": "code",
   "execution_count": 2,
   "metadata": {},
   "outputs": [
    {
     "name": "stdout",
     "output_type": "stream",
     "text": [
      "user: user1\n",
      "password: aaa\n",
      "True\n"
     ]
    }
   ],
   "source": [
    "# original list 'database'\n",
    "# LOGINS = ['user1', 'user2']\n",
    "# PASSWORDS = ['aaa', 'bbb']\n",
    "\n",
    "LOGINS = {'user1': 'aaa',\n",
    "         'user2': 'bbb'}\n",
    "\n",
    "def login(user, password):\n",
    "    return user in LOGINS and LOGINS[user] == password\n",
    "\n",
    "user = input(\"user: \")\n",
    "password = input(\"password: \")\n",
    "print(login(user, password))"
   ]
  },
  {
   "cell_type": "markdown",
   "metadata": {},
   "source": [
    "## Sieve of Eratosthenes\n",
    "\n",
    "Compute a [Sieve of Eratosthenes](https://en.wikipedia.org/wiki/Sieve_of_Eratosthenes).\n",
    "\n",
    "Write two functions:\n",
    "- `compute_sieve` which takes a number `n` and returns a two dimensional array (e.g. `result[row][column]`) of integers representing the sieve from 1 to `n` (inclusive). Every row consists of maximum 10 elements. Elements which are not primes are represented as `0`.\n",
    "- `print_sieve` which takes the sieve computed from the first function and prints it.\n",
    "\n",
    "For `n` = 100 the output should be like this:\n",
    "```\n",
    " 1  2  3 __  5 __  7 __ __ __\n",
    "11 __ 13 __ __ __ 17 __ 19 __\n",
    "__ __ 23 __ __ __ __ __ 29 __\n",
    "31 __ __ __ __ __ 37 __ __ __\n",
    "41 __ 43 __ __ __ 47 __ __ __\n",
    "__ __ 53 __ __ __ __ __ 59 __\n",
    "61 __ __ __ __ __ 67 __ __ __\n",
    "71 __ 73 __ __ __ __ __ 79 __\n",
    "__ __ 83 __ __ __ __ __ 89 __\n",
    "__ __ __ __ __ __ 97 __ __ __\n",
    "```"
   ]
  },
  {
   "cell_type": "code",
   "execution_count": 3,
   "metadata": {},
   "outputs": [
    {
     "name": "stdout",
     "output_type": "stream",
     "text": [
      " 1  2  3 __  5 __  7 __ __ __\n",
      "11 __ 13 __ __ __ 17 __ 19 __\n",
      "__ __ 23 __ __ __ __ __ 29 __\n",
      "31 __ __ __ __ __ 37 __ __ __\n",
      "41 __ 43 __ __ __ 47 __ __ __\n",
      "__ __ 53 __ __ __ __ __ 59 __\n",
      "61 __ __ __ __ __ 67 __ __ __\n",
      "71 __ 73 __ __ __ __ __ 79 __\n",
      "__ __ 83 __ __ __ __ __ 89 __\n",
      "__ __ __ __ __ __ 97 __ __ __\n",
      "\n"
     ]
    }
   ],
   "source": [
    "from math import log10\n",
    "\n",
    "def is_prime(n):\n",
    "    for i in range(2, n):\n",
    "        if n % i == 0:\n",
    "            return False\n",
    "    return True\n",
    "\n",
    "def compute_sieve(n):\n",
    "    numbers = list(range(1, n+1))\n",
    "    # compute all cells\n",
    "    for i in range(n):\n",
    "        if not is_prime(numbers[i]):\n",
    "            numbers[i] = 0\n",
    "    # divide cells in rows\n",
    "    sieve = []\n",
    "    for i in range(int(n / 10) + 1):\n",
    "        sieve.append(numbers[i*10:(i+1)*10])\n",
    "    return sieve\n",
    "\n",
    "def stringify_row(row, width):\n",
    "    str_row = []\n",
    "    for i in row:\n",
    "        if i == 0:\n",
    "            str_row.append(\"_\"*width)\n",
    "        else:\n",
    "            str_row.append(\"{0:{width}d}\".format(i, width=width))\n",
    "    return str_row\n",
    "            \n",
    "def print_sieve(sieve):\n",
    "    width = int(log10(len(sieve)*10))\n",
    "    template = \"\"\n",
    "    for row in sieve:\n",
    "        print(\" \".join(stringify_row(row, width)))\n",
    "\n",
    "print_sieve(compute_sieve(100))"
   ]
  },
  {
   "cell_type": "code",
   "execution_count": null,
   "metadata": {},
   "outputs": [],
   "source": []
  }
 ],
 "metadata": {
  "kernelspec": {
   "display_name": "Python 3",
   "language": "python",
   "name": "python3"
  },
  "language_info": {
   "codemirror_mode": {
    "name": "ipython",
    "version": 3
   },
   "file_extension": ".py",
   "mimetype": "text/x-python",
   "name": "python",
   "nbconvert_exporter": "python",
   "pygments_lexer": "ipython3",
   "version": "3.6.6"
  }
 },
 "nbformat": 4,
 "nbformat_minor": 2
}
