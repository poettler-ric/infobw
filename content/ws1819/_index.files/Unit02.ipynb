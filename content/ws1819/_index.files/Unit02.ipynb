{
 "cells": [
  {
   "cell_type": "markdown",
   "metadata": {},
   "source": [
    "# Unit 02"
   ]
  },
  {
   "cell_type": "markdown",
   "metadata": {},
   "source": [
    "## What can be done with Python?"
   ]
  },
  {
   "cell_type": "code",
   "execution_count": 35,
   "metadata": {},
   "outputs": [],
   "source": [
    "from sympy import *\n",
    "init_printing()"
   ]
  },
  {
   "cell_type": "markdown",
   "metadata": {},
   "source": [
    "### E.g. Algebra\n",
    "\n",
    "Using [sympy](https://www.sympy.org/en/index.html).\n",
    "\n",
    "E.g. Integrals with [calculus](https://docs.sympy.org/latest/tutorial/calculus.html):"
   ]
  },
  {
   "cell_type": "code",
   "execution_count": 140,
   "metadata": {},
   "outputs": [
    {
     "data": {
      "image/png": "[encoded data removed]",
      "text/latex": [
       "$$\\int \\frac{1}{\\sqrt{x}}\\, dx$$"
      ],
      "text/plain": [
       "⌠      \n",
       "⎮ 1    \n",
       "⎮ ── dx\n",
       "⎮ √x   \n",
       "⌡      "
      ]
     },
     "execution_count": 140,
     "metadata": {},
     "output_type": "execute_result"
    }
   ],
   "source": [
    "x = symbols('x')\n",
    "expression = Integral(1/sqrt(x))\n",
    "expression"
   ]
  },
  {
   "cell_type": "code",
   "execution_count": 141,
   "metadata": {},
   "outputs": [
    {
     "data": {
      "image/png": "[encoded data removed]",
      "text/latex": [
       "$$2 \\sqrt{x}$$"
      ],
      "text/plain": [
       "2⋅√x"
      ]
     },
     "execution_count": 141,
     "metadata": {},
     "output_type": "execute_result"
    }
   ],
   "source": [
    "expression.doit()"
   ]
  },
  {
   "cell_type": "code",
   "execution_count": 142,
   "metadata": {},
   "outputs": [
    {
     "data": {
      "image/png": "[encoded data removed]",
      "text/latex": [
       "$$\\frac{4 x^{\\frac{3}{2}}}{3}$$"
      ],
      "text/plain": [
       "   3/2\n",
       "4⋅x   \n",
       "──────\n",
       "  3   "
      ]
     },
     "execution_count": 142,
     "metadata": {},
     "output_type": "execute_result"
    }
   ],
   "source": [
    "integrate(expression)"
   ]
  },
  {
   "cell_type": "markdown",
   "metadata": {},
   "source": [
    "Or [matrices](https://docs.sympy.org/latest/tutorial/matrices.html):"
   ]
  },
  {
   "cell_type": "code",
   "execution_count": 5,
   "metadata": {},
   "outputs": [
    {
     "data": {
      "image/png": "[encoded data removed]",
      "text/latex": [
       "$$\\left[\\begin{matrix}1 & 3\\\\-2 & 3\\end{matrix}\\right]$$"
      ],
      "text/plain": [
       "⎡1   3⎤\n",
       "⎢     ⎥\n",
       "⎣-2  3⎦"
      ]
     },
     "execution_count": 5,
     "metadata": {},
     "output_type": "execute_result"
    }
   ],
   "source": [
    "M = Matrix([[1, 3], [-2, 3]])\n",
    "M"
   ]
  },
  {
   "cell_type": "code",
   "execution_count": 6,
   "metadata": {},
   "outputs": [
    {
     "data": {
      "image/png": "[encoded data removed]",
      "text/latex": [
       "$$\\left[\\begin{matrix}0 & 3\\\\0 & 7\\end{matrix}\\right]$$"
      ],
      "text/plain": [
       "⎡0  3⎤\n",
       "⎢    ⎥\n",
       "⎣0  7⎦"
      ]
     },
     "execution_count": 6,
     "metadata": {},
     "output_type": "execute_result"
    }
   ],
   "source": [
    "N = Matrix([[0, 3], [0, 7]])\n",
    "N"
   ]
  },
  {
   "cell_type": "code",
   "execution_count": 143,
   "metadata": {},
   "outputs": [
    {
     "data": {
      "image/png": "[encoded data removed]",
      "text/latex": [
       "$$\\left[\\begin{matrix}1 & 6\\\\-2 & 10\\end{matrix}\\right]$$"
      ],
      "text/plain": [
       "⎡1   6 ⎤\n",
       "⎢      ⎥\n",
       "⎣-2  10⎦"
      ]
     },
     "execution_count": 143,
     "metadata": {},
     "output_type": "execute_result"
    }
   ],
   "source": [
    "M + N"
   ]
  },
  {
   "cell_type": "code",
   "execution_count": 144,
   "metadata": {},
   "outputs": [
    {
     "data": {
      "image/png": "[encoded data removed]",
      "text/latex": [
       "$$\\left[\\begin{matrix}0 & 24\\\\0 & 15\\end{matrix}\\right]$$"
      ],
      "text/plain": [
       "⎡0  24⎤\n",
       "⎢     ⎥\n",
       "⎣0  15⎦"
      ]
     },
     "execution_count": 144,
     "metadata": {},
     "output_type": "execute_result"
    }
   ],
   "source": [
    "M * N"
   ]
  },
  {
   "cell_type": "markdown",
   "metadata": {},
   "source": [
    "### Mechanics\n",
    "\n",
    "#### Mechanics exercise 1.2\n",
    "\n",
    "Using [solvers](https://docs.sympy.org/latest/tutorial/solvers.html):"
   ]
  },
  {
   "cell_type": "code",
   "execution_count": 145,
   "metadata": {},
   "outputs": [
    {
     "data": {
      "image/png": "[encoded data removed]",
      "text/latex": [
       "$$\\frac{G}{\\cos{\\left (a \\right )}}$$"
      ],
      "text/plain": [
       "  G   \n",
       "──────\n",
       "cos(a)"
      ]
     },
     "execution_count": 145,
     "metadata": {},
     "output_type": "execute_result"
    }
   ],
   "source": [
    "F_k, G, S1, S2, a = symbols('F_k G S1 S2 a')\n",
    "\n",
    "substitutions = []\n",
    "\n",
    "# FS1\n",
    "sum_f_horizontal = Eq(G - F_k * cos(a))\n",
    "F_k_result = solve(sum_f_horizontal, F_k).pop()\n",
    "F_k_result"
   ]
  },
  {
   "cell_type": "code",
   "execution_count": 146,
   "metadata": {},
   "outputs": [
    {
     "data": {
      "image/png": "[encoded data removed]",
      "text/latex": [
       "$$\\frac{G \\sin{\\left (a \\right )}}{\\cos{\\left (a \\right )}}$$"
      ],
      "text/plain": [
       "G⋅sin(a)\n",
       "────────\n",
       " cos(a) "
      ]
     },
     "execution_count": 146,
     "metadata": {},
     "output_type": "execute_result"
    }
   ],
   "source": [
    "substitutions.append((F_k, F_k_result))\n",
    "\n",
    "sum_f_vertical = Eq(-S1 + F_k * sin(a))\n",
    "S1_result = solve(sum_f_vertical, S1).pop().subs(substitutions)\n",
    "S1_result"
   ]
  },
  {
   "cell_type": "code",
   "execution_count": 147,
   "metadata": {},
   "outputs": [
    {
     "data": {
      "image/png": "[encoded data removed]",
      "text/latex": [
       "$$G \\tan{\\left (a \\right )}$$"
      ],
      "text/plain": [
       "G⋅tan(a)"
      ]
     },
     "execution_count": 147,
     "metadata": {},
     "output_type": "execute_result"
    }
   ],
   "source": [
    "S1_result = S1_result.simplify()\n",
    "S1_result"
   ]
  },
  {
   "cell_type": "code",
   "execution_count": 148,
   "metadata": {},
   "outputs": [
    {
     "data": {
      "image/png": "[encoded data removed]",
      "text/latex": [
       "$$- \\frac{G \\sin{\\left (a \\right )}}{\\cos{\\left (a \\right )}}$$"
      ],
      "text/plain": [
       "-G⋅sin(a) \n",
       "──────────\n",
       "  cos(a)  "
      ]
     },
     "execution_count": 148,
     "metadata": {},
     "output_type": "execute_result"
    }
   ],
   "source": [
    "substitutions.append((S1, S1_result))\n",
    "\n",
    "# FS2\n",
    "sum_f_horizontal = Eq(-S2 - F_k * sin(a))\n",
    "S2_result = solve(sum_f_horizontal, S2).pop().subs(substitutions)\n",
    "S2_result"
   ]
  },
  {
   "cell_type": "code",
   "execution_count": 149,
   "metadata": {},
   "outputs": [
    {
     "data": {
      "image/png": "[encoded data removed]",
      "text/latex": [
       "$$- G \\tan{\\left (a \\right )}$$"
      ],
      "text/plain": [
       "-G⋅tan(a)"
      ]
     },
     "execution_count": 149,
     "metadata": {},
     "output_type": "execute_result"
    }
   ],
   "source": [
    "S2_result = S2_result.simplify()\n",
    "S2_result"
   ]
  },
  {
   "cell_type": "code",
   "execution_count": 150,
   "metadata": {},
   "outputs": [],
   "source": [
    "substitutions.append((S2, S2_result))"
   ]
  },
  {
   "cell_type": "markdown",
   "metadata": {},
   "source": [
    "#### Calculate center of gravity:"
   ]
  },
  {
   "cell_type": "code",
   "execution_count": 3,
   "metadata": {},
   "outputs": [
    {
     "data": {
      "image/png": "[encoded data removed]",
      "text/latex": [
       "$$\\frac{3 l}{4}$$"
      ],
      "text/plain": [
       "3⋅l\n",
       "───\n",
       " 4 "
      ]
     },
     "execution_count": 3,
     "metadata": {},
     "output_type": "execute_result"
    }
   ],
   "source": [
    "x, l = symbols('x l')\n",
    "\n",
    "def q(x):\n",
    "    return x**2\n",
    "\n",
    "x_s = integrate(x * q(x), (x, 0, l)) / integrate(q(x), (x, 0, l))\n",
    "x_s"
   ]
  },
  {
   "cell_type": "markdown",
   "metadata": {},
   "source": [
    "## Assignment\n",
    "\n",
    "- Only last uploaded assignment is taken into account\n",
    "- Points are only given on assignment as is uploaded\n",
    "- Unexpected program exit results in 0 points\n",
    "\n",
    "### Assignment interview\n",
    "\n",
    "- Usually 10-15 minutes long\n",
    "- Explain your own code\n",
    "- Short programming example done by student without external help"
   ]
  },
  {
   "cell_type": "markdown",
   "metadata": {},
   "source": [
    "## General Unit agenda\n",
    "\n",
    "1. Theory with programming snippets\n",
    "2. Programming example done by tutor\n",
    "3. Programming example done by students"
   ]
  },
  {
   "cell_type": "markdown",
   "metadata": {},
   "source": [
    "## Statements\n",
    "\n",
    "A program consists of multiple statements executed one after the other."
   ]
  },
  {
   "cell_type": "code",
   "execution_count": 151,
   "metadata": {},
   "outputs": [
    {
     "name": "stdout",
     "output_type": "stream",
     "text": [
      "hello world\n",
      "second line\n",
      "11\n"
     ]
    }
   ],
   "source": [
    "# This is a comment\n",
    "print(\"hello world\")\n",
    "print(\"second line\")\n",
    "print(5 + 6)"
   ]
  },
  {
   "cell_type": "markdown",
   "metadata": {},
   "source": [
    "This can be combined as needed:"
   ]
  },
  {
   "cell_type": "code",
   "execution_count": 152,
   "metadata": {},
   "outputs": [
    {
     "name": "stdout",
     "output_type": "stream",
     "text": [
      "There are 21 persons in the room\n"
     ]
    }
   ],
   "source": [
    "students = 20\n",
    "tutor = 1\n",
    "persons = students + tutor\n",
    "print(\"There are {} persons in the room\".format(persons))"
   ]
  },
  {
   "cell_type": "markdown",
   "metadata": {},
   "source": [
    "## Datatypes\n",
    "https://docs.python.org/3/library/stdtypes.html\n",
    "\n",
    "Variables have a name, address and value (datatype?)"
   ]
  },
  {
   "cell_type": "code",
   "execution_count": 153,
   "metadata": {},
   "outputs": [
    {
     "name": "stdout",
     "output_type": "stream",
     "text": [
      "Hello, my name is Dilbert and I am 25 years old.\n"
     ]
    }
   ],
   "source": [
    "name = \"Dilbert\"\n",
    "age = 25\n",
    "print(\"Hello, my name is {} and I am {} years old.\".format(name, age))"
   ]
  },
  {
   "cell_type": "markdown",
   "metadata": {},
   "source": [
    "You can get the type of a variable with the type() function."
   ]
  },
  {
   "cell_type": "code",
   "execution_count": 154,
   "metadata": {},
   "outputs": [
    {
     "name": "stdout",
     "output_type": "stream",
     "text": [
      "name has the value Dilbert and the type <class 'str'>.\n",
      "age has the value 25 and the type <class 'int'>.\n"
     ]
    }
   ],
   "source": [
    "print(\"name has the value {} and the type {}.\".format(name, type(name)))\n",
    "print(\"age has the value {} and the type {}.\".format(age, type(age)))"
   ]
  },
  {
   "cell_type": "markdown",
   "metadata": {},
   "source": [
    "### Booleans\n",
    "Can have values True and False"
   ]
  },
  {
   "cell_type": "code",
   "execution_count": 155,
   "metadata": {},
   "outputs": [
    {
     "name": "stdout",
     "output_type": "stream",
     "text": [
      "a: True type: <class 'bool'>\n",
      "b: False type: <class 'bool'>\n"
     ]
    }
   ],
   "source": [
    "a = True\n",
    "b = False\n",
    "\n",
    "print(\"a: {} type: {}\".format(a, type(a)))\n",
    "print(\"b: {} type: {}\".format(b, type(b)))"
   ]
  },
  {
   "cell_type": "markdown",
   "metadata": {},
   "source": [
    "This can be combined with 'not', 'and' and 'or'."
   ]
  },
  {
   "cell_type": "code",
   "execution_count": 156,
   "metadata": {},
   "outputs": [
    {
     "name": "stdout",
     "output_type": "stream",
     "text": [
      "not a: False\n",
      "a or True: True\n",
      "a and False: False\n",
      "a or b: True\n",
      "True\n",
      "False\n",
      "False\n",
      "False\n"
     ]
    }
   ],
   "source": [
    "print(\"not a: {}\".format(not a))\n",
    "print(\"a or True: {}\".format(a or True))\n",
    "print(\"a and False: {}\".format(a and False))\n",
    "print(\"a or b: {}\".format(a or b))\n",
    "\n",
    "\n",
    "print(True and True)\n",
    "print(True and False)\n",
    "print(False and True)\n",
    "print(False and False)\n"
   ]
  },
  {
   "cell_type": "markdown",
   "metadata": {},
   "source": [
    "Booleans will mostly be used for conitionals.\n",
    "\n",
    "https://docs.python.org/3/library/stdtypes.html#truth-value-testing"
   ]
  },
  {
   "cell_type": "code",
   "execution_count": 157,
   "metadata": {},
   "outputs": [
    {
     "name": "stdout",
     "output_type": "stream",
     "text": [
      "5 == 5: True, type: <class 'bool'>\n",
      "0 == False: True\n",
      "True\n"
     ]
    }
   ],
   "source": [
    "print(\"5 == 5: {}, type: {}\".format(5 == 5, type(5==5)))\n",
    "print(\"0 == False: {}\".format(0 == False))\n",
    "print(not \"\")"
   ]
  },
  {
   "cell_type": "markdown",
   "metadata": {},
   "source": [
    "### Numbers\n",
    "In Python 3 there are no long numbers any more (https://www.python.org/dev/peps/pep-0237/)."
   ]
  },
  {
   "cell_type": "code",
   "execution_count": 158,
   "metadata": {},
   "outputs": [
    {
     "name": "stdout",
     "output_type": "stream",
     "text": [
      "i: 5 type: <class 'int'>\n",
      "j: 10.1 type: <class 'float'>\n"
     ]
    }
   ],
   "source": [
    "# Numbers: int, float\n",
    "i = 5 # integer\n",
    "j = 10.1 #float\n",
    "# type() returns the type of an expression\n",
    "print(\"i: {} type: {}\".format(i, type(i)))\n",
    "print(\"j: {} type: {}\".format(j, type(j)))"
   ]
  },
  {
   "cell_type": "markdown",
   "metadata": {},
   "source": [
    "You can convert from one type to another. This is called explicit type casting."
   ]
  },
  {
   "cell_type": "code",
   "execution_count": 159,
   "metadata": {},
   "outputs": [
    {
     "name": "stdout",
     "output_type": "stream",
     "text": [
      "casted i -> float: 5.0 type: <class 'float'>\n",
      "casted k -> int: 10 type: <class 'int'>\n"
     ]
    }
   ],
   "source": [
    "print(\"casted i -> float: {} type: {}\".format(float(i), type(float(i))))\n",
    "print(\"casted k -> int: {} type: {}\".format(int(j), type(int(j))))"
   ]
  },
  {
   "cell_type": "markdown",
   "metadata": {},
   "source": [
    "Typecasts can be implicit."
   ]
  },
  {
   "cell_type": "code",
   "execution_count": 160,
   "metadata": {},
   "outputs": [
    {
     "name": "stdout",
     "output_type": "stream",
     "text": [
      "5 / 2 = 2.5 (<class 'float'>)\n"
     ]
    }
   ],
   "source": [
    "print(\"5 / 2 = {} ({})\".format(5/2, type(5/2)))"
   ]
  },
  {
   "cell_type": "markdown",
   "metadata": {},
   "source": [
    "But:"
   ]
  },
  {
   "cell_type": "code",
   "execution_count": 161,
   "metadata": {},
   "outputs": [
    {
     "name": "stdout",
     "output_type": "stream",
     "text": [
      "5 / 2 = 2 (<class 'int'>)\n"
     ]
    }
   ],
   "source": [
    "print(\"5 / 2 = {} ({})\".format(int(5/2), type(int(5/2))))"
   ]
  },
  {
   "cell_type": "markdown",
   "metadata": {},
   "source": [
    "#### Operators\n",
    "Python knows operators like: + - * ** / % () :"
   ]
  },
  {
   "cell_type": "code",
   "execution_count": 162,
   "metadata": {},
   "outputs": [
    {
     "name": "stdout",
     "output_type": "stream",
     "text": [
      "(4 + 3) * 6 / 7 - 10 = -4.0\n",
      "2^3 = 8\n",
      "negate: -5\n",
      "modulo (remainder of 17 / 5): 2\n"
     ]
    }
   ],
   "source": [
    "print(\"(4 + 3) * 6 / 7 - 10 = {}\".format((4 + 3) * 6 / 7 - 10))\n",
    "print(\"2^3 = {}\".format(2**3))\n",
    "print(\"negate: {}\".format(-i))\n",
    "print(\"modulo (remainder of 17 / 5): {}\".format(17 % 5))"
   ]
  },
  {
   "cell_type": "markdown",
   "metadata": {},
   "source": [
    "And some shorhands:"
   ]
  },
  {
   "cell_type": "code",
   "execution_count": 163,
   "metadata": {},
   "outputs": [
    {
     "name": "stdout",
     "output_type": "stream",
     "text": [
      "c = 10\n"
     ]
    }
   ],
   "source": [
    "c = 5\n",
    "c += 5 # shorthand for c = c + 2\n",
    "c -= 5\n",
    "c *= 2\n",
    "print(\"c = {}\".format(c))"
   ]
  },
  {
   "cell_type": "markdown",
   "metadata": {},
   "source": [
    "And comparison operators (== != < > <= >=):"
   ]
  },
  {
   "cell_type": "code",
   "execution_count": 164,
   "metadata": {},
   "outputs": [
    {
     "name": "stdout",
     "output_type": "stream",
     "text": [
      "i == 10 -> False\n",
      "i != 5 -> False\n",
      "i < 15 -> True\n",
      "i > 5 -> False\n",
      "i <= 10 -> True\n",
      "i >= 10 -> False\n"
     ]
    }
   ],
   "source": [
    "print(\"i == 10 -> {}\".format(i == 10))\n",
    "print(\"i != 5 -> {}\".format(i != 5))\n",
    "print(\"i < 15 -> {}\".format(i < 15))\n",
    "print(\"i > 5 -> {}\".format(i > 5))\n",
    "print(\"i <= 10 -> {}\".format(i <= 10))\n",
    "print(\"i >= 10 -> {}\".format(i >= 10))"
   ]
  },
  {
   "cell_type": "markdown",
   "metadata": {},
   "source": [
    "## Strings\n",
    "\n",
    "Strings are list of characters.\n",
    "A character is a letter.\n",
    "\n",
    "https://docs.python.org/3/library/stdtypes.html#string-methods\n",
    "\n",
    "https://docs.python.org/3/library/string.html#format-string-syntax"
   ]
  },
  {
   "cell_type": "code",
   "execution_count": 36,
   "metadata": {},
   "outputs": [
    {
     "name": "stdout",
     "output_type": "stream",
     "text": [
      "8\n",
      "44\n",
      "44\n",
      "8\n",
      "hello world\n",
      "====================\n",
      "Hello World\n",
      "UPPERlower\n",
      "True\n",
      "True\n",
      "2\n",
      "Centimeter\n",
      "True\n"
     ]
    }
   ],
   "source": [
    "string1 = \"hello\"\n",
    "string2 = \"world\"\n",
    "\n",
    "number = 4\n",
    "number2 = \"4\"\n",
    "\n",
    "\n",
    "print(number + number)\n",
    "print(number2 + number2)\n",
    "print(str(number) + number2)\n",
    "print(number + int(number2))\n",
    "\n",
    "print(string1 + \" \" + string2)\n",
    "print(\"=\" * 20)\n",
    "print(string1.capitalize() + \" \" + string2.capitalize())\n",
    "print(\"upper\".upper() + \"LOWER\".lower())\n",
    "print(string1.startswith(\"hel\"))\n",
    "print(string1.endswith(\"lo\"))\n",
    "print(string1.find(\"ll\")) # retunrs index or -1 if not found\n",
    "\n",
    "cent = \"Centimeter\"\n",
    "print(cent)\n",
    "print(cent.lower() == \"centimeter\")"
   ]
  },
  {
   "cell_type": "markdown",
   "metadata": {},
   "source": [
    "## Builtin Funcitons\n",
    "\n",
    "https://docs.python.org/3/library/functions.html#built-in-funcs"
   ]
  },
  {
   "cell_type": "code",
   "execution_count": 166,
   "metadata": {},
   "outputs": [
    {
     "name": "stdout",
     "output_type": "stream",
     "text": [
      "3\n",
      "5\n",
      "7\n"
     ]
    }
   ],
   "source": [
    "print(abs(-3))\n",
    "print(min(5, 7))\n",
    "print(max((5, 7)))"
   ]
  },
  {
   "cell_type": "code",
   "execution_count": 38,
   "metadata": {},
   "outputs": [
    {
     "name": "stdout",
     "output_type": "stream",
     "text": [
      "please enter number: 4\n",
      "var: 4 type: <class 'str'>\n",
      "var: 4 type: <class 'int'>\n",
      "please enter another number: 8\n",
      "another_var: 8 type: <class 'int'>\n"
     ]
    }
   ],
   "source": [
    "var = input(\"please enter number: \")\n",
    "print(\"var: {} type: {}\".format(var, type(var)))\n",
    "var = int(var)\n",
    "print(\"var: {} type: {}\".format(var, type(var)))\n",
    "\n",
    "another_var = int(input(\"please enter another number: \"))\n",
    "print(\"another_var: {} type: {}\".format(another_var, type(another_var)))"
   ]
  },
  {
   "cell_type": "markdown",
   "metadata": {},
   "source": [
    "# Control flow\n",
    "\n",
    "## if / else\n",
    "Kewords while programming: \"wenn/falls\"\n",
    "\n",
    "General form:"
   ]
  },
  {
   "cell_type": "code",
   "execution_count": 1,
   "metadata": {},
   "outputs": [],
   "source": [
    "condition = False\n",
    "condition1 =  False\n",
    "condition2 =  False\n",
    "\n",
    "if condition:\n",
    "    pass\n",
    "elif condition1:\n",
    "    pass\n",
    "elif condition2:\n",
    "    pass\n",
    "else:\n",
    "    pass\n",
    "\n",
    "# shortcut for:\n",
    "if condition:\n",
    "    pass\n",
    "else:\n",
    "    if condition1:\n",
    "        pass\n",
    "    else:\n",
    "        if condition2:\n",
    "            pass\n",
    "        else:\n",
    "            pass"
   ]
  },
  {
   "cell_type": "markdown",
   "metadata": {},
   "source": [
    "Example:"
   ]
  },
  {
   "cell_type": "code",
   "execution_count": 41,
   "metadata": {},
   "outputs": [
    {
     "name": "stdout",
     "output_type": "stream",
     "text": [
      "first number: 8\n",
      "operator: *\n",
      "second number: 9\n",
      "8.0 * 9.0 = 72.0\n"
     ]
    }
   ],
   "source": [
    "n1 = float(input(\"first number: \"))\n",
    "operator = input(\"operator: \")\n",
    "n2 = float(input(\"second number: \"))\n",
    "\n",
    "if operator == '/' and n2 == 0.0:\n",
    "    print(\"no division by zero!\")\n",
    "else:\n",
    "    if operator == '+':\n",
    "        print(\"{} {} {} = {}\".format(n1, operator, n2, n1 + n2))\n",
    "    elif operator == '-':\n",
    "        print(\"{} {} {} = {}\".format(n1, operator, n2, n1 - n2))\n",
    "    elif operator == '*':\n",
    "        print(\"{} {} {} = {}\".format(n1, operator, n2, n1 * n2))\n",
    "    elif operator == '/':\n",
    "        print(\"{} {} {} = {}\".format(n1, operator, n2, n1 / n2))\n",
    "    else:\n",
    "        print(\"not implemented!\")"
   ]
  },
  {
   "cell_type": "markdown",
   "metadata": {},
   "source": [
    "## while\n",
    "\n",
    "Keywords while programming: \"solange\"\n",
    "\n",
    "General form:"
   ]
  },
  {
   "cell_type": "code",
   "execution_count": 61,
   "metadata": {},
   "outputs": [],
   "source": [
    "while condition:\n",
    "    pass"
   ]
  },
  {
   "cell_type": "markdown",
   "metadata": {},
   "source": [
    "Example:"
   ]
  },
  {
   "cell_type": "code",
   "execution_count": 51,
   "metadata": {},
   "outputs": [
    {
     "name": "stdout",
     "output_type": "stream",
     "text": [
      "first number: 8\n",
      "operator: +\n",
      "second number: 9\n",
      "8.0 + 9.0 = 17.0\n",
      "again? y\n",
      "first number: 9\n",
      "operator: *\n",
      "second number: 8\n",
      "9.0 * 8.0 = 72.0\n",
      "again? n\n"
     ]
    }
   ],
   "source": [
    "answer = 'y'\n",
    "while answer == 'y':\n",
    "    n1 = float(input(\"first number: \"))\n",
    "    operator = input(\"operator: \")\n",
    "    n2 = float(input(\"second number: \"))\n",
    "\n",
    "    if operator == '/' and n2 == 0.0:\n",
    "        print(\"no division by zero!\")\n",
    "    else:\n",
    "        if operator == '+':\n",
    "            print(\"{} {} {} = {}\".format(n1, operator, n2, n1 + n2))\n",
    "        elif operator == '-':\n",
    "            print(\"{} {} {} = {}\".format(n1, operator, n2, n1 - n2))\n",
    "        elif operator == '*':\n",
    "            print(\"{} {} {} = {}\".format(n1, operator, n2, n1 * n2))\n",
    "        elif operator == '/':\n",
    "            print(\"{} {} {} = {}\".format(n1, operator, n2, n1 / n2))\n",
    "        else:\n",
    "            print(\"not implemented!\")\n",
    "    answer = input(\"again? \").lower()"
   ]
  },
  {
   "cell_type": "markdown",
   "metadata": {},
   "source": [
    "### Controlling while"
   ]
  },
  {
   "cell_type": "markdown",
   "metadata": {},
   "source": [
    "#### continue\n",
    "continue starts with the next iteration of the innermost loop"
   ]
  },
  {
   "cell_type": "code",
   "execution_count": 52,
   "metadata": {},
   "outputs": [
    {
     "name": "stdout",
     "output_type": "stream",
     "text": [
      "first number: 9\n",
      "operator: /\n",
      "second number: 0\n",
      "no division by zero!\n",
      "first number: 9\n",
      "operator: /\n",
      "second number: 1\n",
      "9.0 / 1.0 = 9.0\n",
      "again? n\n"
     ]
    }
   ],
   "source": [
    "answer = 'y'\n",
    "while answer == 'y':\n",
    "    n1 = float(input(\"first number: \"))\n",
    "    operator = input(\"operator: \")\n",
    "    n2 = float(input(\"second number: \"))\n",
    "\n",
    "    if operator == '/' and n2 == 0.0:\n",
    "        print(\"no division by zero!\")\n",
    "        continue\n",
    "        \n",
    "    if operator == '+':\n",
    "        print(\"{} {} {} = {}\".format(n1, operator, n2, n1 + n2))\n",
    "    elif operator == '-':\n",
    "        print(\"{} {} {} = {}\".format(n1, operator, n2, n1 - n2))\n",
    "    elif operator == '*':\n",
    "        print(\"{} {} {} = {}\".format(n1, operator, n2, n1 * n2))\n",
    "    elif operator == '/':\n",
    "        print(\"{} {} {} = {}\".format(n1, operator, n2, n1 / n2))\n",
    "    else:\n",
    "        print(\"not implemented!\")\n",
    "    answer = input(\"again? \").lower()"
   ]
  },
  {
   "cell_type": "markdown",
   "metadata": {},
   "source": [
    "#### break\n",
    "break stops the execution of the innermost loop altogether"
   ]
  },
  {
   "cell_type": "code",
   "execution_count": 53,
   "metadata": {},
   "outputs": [
    {
     "name": "stdout",
     "output_type": "stream",
     "text": [
      "first number: 8\n",
      "operator: /\n",
      "second number: 0\n",
      "no division by zero!\n"
     ]
    }
   ],
   "source": [
    "answer = 'y'\n",
    "while answer == 'y':\n",
    "    n1 = float(input(\"first number: \"))\n",
    "    operator = input(\"operator: \")\n",
    "    n2 = float(input(\"second number: \"))\n",
    "\n",
    "    if operator == '/' and n2 == 0.0:\n",
    "        print(\"no division by zero!\")\n",
    "        break\n",
    "        \n",
    "    if operator == '+':\n",
    "        print(\"{} {} {} = {}\".format(n1, operator, n2, n1 + n2))\n",
    "    elif operator == '-':\n",
    "        print(\"{} {} {} = {}\".format(n1, operator, n2, n1 - n2))\n",
    "    elif operator == '*':\n",
    "        print(\"{} {} {} = {}\".format(n1, operator, n2, n1 * n2))\n",
    "    elif operator == '/':\n",
    "        print(\"{} {} {} = {}\".format(n1, operator, n2, n1 / n2))\n",
    "    else:\n",
    "        print(\"not implemented!\")\n",
    "    answer = input(\"again? \").lower()"
   ]
  },
  {
   "cell_type": "markdown",
   "metadata": {},
   "source": [
    "# Sequence Types\n",
    "\n",
    "https://docs.python.org/3/library/stdtypes.html#sequence-types-list-tuple-range\n",
    "\n",
    "## Lists\n",
    "General form:"
   ]
  },
  {
   "cell_type": "code",
   "execution_count": 54,
   "metadata": {},
   "outputs": [],
   "source": [
    "my_list = ['a', 'b', 'c']"
   ]
  },
  {
   "cell_type": "markdown",
   "metadata": {},
   "source": [
    "Accessing elements in a list via indexes. Indexes are 0 based."
   ]
  },
  {
   "cell_type": "code",
   "execution_count": 55,
   "metadata": {},
   "outputs": [
    {
     "name": "stdout",
     "output_type": "stream",
     "text": [
      "a\n",
      "c\n",
      "b\n",
      "c\n",
      "b\n"
     ]
    }
   ],
   "source": [
    "print(my_list[0])\n",
    "print(my_list[2])\n",
    "print(my_list[1])\n",
    "print(my_list[-1])\n",
    "print(my_list[-2])"
   ]
  },
  {
   "cell_type": "markdown",
   "metadata": {},
   "source": [
    "There are several ways to interact with lists"
   ]
  },
  {
   "cell_type": "code",
   "execution_count": 57,
   "metadata": {},
   "outputs": [
    {
     "name": "stdout",
     "output_type": "stream",
     "text": [
      "['a', 'b', 'c', 'x', 'z', 'x', 'z', 'x', 'z']\n",
      "9\n",
      "True\n",
      "3\n",
      "5\n"
     ]
    }
   ],
   "source": [
    "my_list.append('x')\n",
    "my_list.append('z')\n",
    "print(my_list)\n",
    "\n",
    "print(len(my_list)) # len() function returns the number of items in a list (len = length)\n",
    "print('x' in my_list) # in checks whether a item is in a list\n",
    "print(my_list.index('x')) # the index method returns the index of an element\n",
    "\n",
    "my_list.append('x')\n",
    "my_list.append('z')\n",
    "print(my_list.index('x', 4)) "
   ]
  },
  {
   "cell_type": "markdown",
   "metadata": {},
   "source": [
    "### Adding and removing elements\n",
    "This can be done with the append and del function."
   ]
  },
  {
   "cell_type": "markdown",
   "metadata": {},
   "source": [
    "Example:"
   ]
  },
  {
   "cell_type": "code",
   "execution_count": 62,
   "metadata": {},
   "outputs": [
    {
     "name": "stdout",
     "output_type": "stream",
     "text": [
      "['Peter', 'Hans', 'Sandra', 'Lisa']\n"
     ]
    }
   ],
   "source": [
    "students = [\"Peter\", \"Hans\", \"Sandra\"]\n",
    "students.append(\"Lisa\")\n",
    "print(students)"
   ]
  },
  {
   "cell_type": "code",
   "execution_count": 22,
   "metadata": {},
   "outputs": [
    {
     "name": "stdout",
     "output_type": "stream",
     "text": [
      "Sandra\n",
      "['Peter', 'Hans', 'Lisa']\n"
     ]
    }
   ],
   "source": [
    "print(students[2])\n",
    "del(students[2])\n",
    "print(students)"
   ]
  },
  {
   "cell_type": "markdown",
   "metadata": {},
   "source": [
    "### Iterating over a list - for\n",
    "\n",
    "Keyword: \"für jedes Element\"\n",
    "\n",
    "General form:"
   ]
  },
  {
   "cell_type": "code",
   "execution_count": 66,
   "metadata": {},
   "outputs": [
    {
     "name": "stdout",
     "output_type": "stream",
     "text": [
      "a\n",
      "b\n",
      "c\n",
      "x\n",
      "z\n",
      "x\n",
      "z\n",
      "x\n",
      "z\n",
      "x\n",
      "z\n"
     ]
    }
   ],
   "source": [
    "for i in my_list:\n",
    "    print(i)"
   ]
  },
  {
   "cell_type": "markdown",
   "metadata": {},
   "source": [
    "Keywords like ``continue`` and ``break`` work for ``for``-loops, too:"
   ]
  },
  {
   "cell_type": "code",
   "execution_count": 24,
   "metadata": {},
   "outputs": [
    {
     "name": "stdout",
     "output_type": "stream",
     "text": [
      "Hans\n"
     ]
    }
   ],
   "source": [
    "for s in students:\n",
    "    if s == \"Peter\":\n",
    "        continue\n",
    "    if s == \"Lisa\":\n",
    "        break\n",
    "    print(s)"
   ]
  },
  {
   "cell_type": "markdown",
   "metadata": {},
   "source": [
    "### Range\n",
    "\n",
    "https://docs.python.org/3/library/functions.html#func-range\n",
    "\n",
    "Range generates a list on the fly.\n",
    "\n",
    "General form:"
   ]
  },
  {
   "cell_type": "code",
   "execution_count": null,
   "metadata": {},
   "outputs": [],
   "source": [
    "range(start, end, step)"
   ]
  },
  {
   "cell_type": "code",
   "execution_count": 67,
   "metadata": {},
   "outputs": [
    {
     "name": "stdout",
     "output_type": "stream",
     "text": [
      "0\n",
      "1\n",
      "2\n",
      "3\n",
      "4\n",
      "5\n",
      "6\n",
      "7\n",
      "8\n",
      "9\n"
     ]
    }
   ],
   "source": [
    "i = 0\n",
    "while i < 10:\n",
    "    print(i)\n",
    "    i += 1"
   ]
  },
  {
   "cell_type": "code",
   "execution_count": 73,
   "metadata": {},
   "outputs": [
    {
     "name": "stdout",
     "output_type": "stream",
     "text": [
      "0\n",
      "1\n",
      "2\n",
      "3\n",
      "4\n",
      "5\n",
      "6\n",
      "7\n",
      "8\n",
      "9\n"
     ]
    }
   ],
   "source": [
    "for a in range(10):\n",
    "    print(a)"
   ]
  },
  {
   "cell_type": "markdown",
   "metadata": {},
   "source": [
    "E.g. you could print alle even numbers:"
   ]
  },
  {
   "cell_type": "code",
   "execution_count": 69,
   "metadata": {},
   "outputs": [
    {
     "name": "stdout",
     "output_type": "stream",
     "text": [
      "to: 5\n",
      "0\n",
      "2\n",
      "4\n"
     ]
    }
   ],
   "source": [
    "to = int(input('to: '))\n",
    "for i in range(0, to, 2):\n",
    "    print(i)"
   ]
  },
  {
   "cell_type": "markdown",
   "metadata": {},
   "source": [
    "### Slices\n",
    "\n",
    "With slices a portions of a list can be accessed. General form:"
   ]
  },
  {
   "cell_type": "code",
   "execution_count": null,
   "metadata": {},
   "outputs": [],
   "source": [
    "start, end, step = 0, 0, 1 # end is exclusive\n",
    "my_list[start:end:step]"
   ]
  },
  {
   "cell_type": "markdown",
   "metadata": {},
   "source": [
    "Notes:\n",
    "\n",
    "- If start or end are not given they default to the start or end of the list\n",
    "- If step is not given it defaults to 1"
   ]
  },
  {
   "cell_type": "code",
   "execution_count": 74,
   "metadata": {},
   "outputs": [
    {
     "name": "stdout",
     "output_type": "stream",
     "text": [
      "[10, 11, 12, 13, 14, 15, 16, 17, 18, 19]\n",
      "[10, 12, 14, 16, 18]\n",
      "[20, 19, 18, 17, 16, 15, 14, 13, 12, 11]\n",
      "[99, 98]\n",
      "[99, 98, 97, 96, 95, 94, 93, 92, 91, 90, 89, 88, 87, 86, 85, 84, 83, 82, 81, 80, 79, 78, 77, 76, 75, 74, 73, 72, 71, 70, 69, 68, 67, 66, 65, 64, 63, 62, 61, 60, 59, 58, 57, 56, 55, 54, 53, 52, 51, 50, 49, 48, 47, 46, 45, 44, 43, 42, 41, 40, 39, 38, 37, 36, 35, 34, 33, 32, 31, 30, 29, 28, 27, 26, 25, 24, 23, 22, 21, 20, 19, 18, 17, 16, 15, 14, 13, 12, 11, 10, 9, 8, 7, 6, 5, 4, 3, 2, 1, 0]\n"
     ]
    }
   ],
   "source": [
    "numbers = list(range(100))\n",
    "\n",
    "print(numbers[10:20])\n",
    "print(numbers[10:20:2])\n",
    "print(numbers[20:10:-1])\n",
    "print(numbers[-1:-3:-1])\n",
    "print(numbers[::-1])"
   ]
  },
  {
   "cell_type": "markdown",
   "metadata": {},
   "source": [
    "## Strings\n",
    "\n",
    "Strings are lists of characters. A character represents a single letter. Therefore operations working on lists also work on strings."
   ]
  },
  {
   "cell_type": "code",
   "execution_count": 75,
   "metadata": {},
   "outputs": [
    {
     "name": "stdout",
     "output_type": "stream",
     "text": [
      "or\n",
      "w\n",
      "o\n",
      "r\n",
      "d\n",
      "True\n"
     ]
    }
   ],
   "source": [
    "word = \"word\"\n",
    "print(word[1:3])\n",
    "for c in word:\n",
    "    print(c)\n",
    "    \n",
    "print(\"or\" in word)"
   ]
  },
  {
   "cell_type": "markdown",
   "metadata": {},
   "source": [
    "## Programming example\n",
    "\n",
    "Compute the factorial of a numer read from ``stdin``."
   ]
  },
  {
   "cell_type": "code",
   "execution_count": 9,
   "metadata": {},
   "outputs": [
    {
     "name": "stdout",
     "output_type": "stream",
     "text": [
      "number: 5\n",
      "120\n",
      "120\n"
     ]
    }
   ],
   "source": [
    "var = int(input('number: '))\n",
    "\n",
    "# 3! = 3 * 2 * 1 = 6\n",
    "result = 1\n",
    "for i in range(1, var + 1):\n",
    "    result *= i\n",
    "print(result)\n",
    "\n",
    "# alternative:\n",
    "result = 1\n",
    "while var > 1:\n",
    "   result *= var\n",
    "   var -= 1\n",
    "    \n",
    "print(result)"
   ]
  },
  {
   "cell_type": "markdown",
   "metadata": {},
   "source": [
    "## Student example\n",
    "\n",
    "Read words from ``stdin`` and only store them if they haven't been stored already. Do so until 5 words are stored."
   ]
  },
  {
   "cell_type": "code",
   "execution_count": 84,
   "metadata": {},
   "outputs": [
    {
     "name": "stdout",
     "output_type": "stream",
     "text": [
      "enter word: a\n",
      "enter word: a\n",
      "enter word: a\n",
      "enter word: a\n",
      "enter word: a\n",
      "enter word: a\n",
      "enter word: b\n",
      "enter word: c\n",
      "enter word: d\n",
      "enter word: e\n",
      "['a', 'b', 'c', 'd', 'e']\n"
     ]
    }
   ],
   "source": [
    "words = []\n",
    "while len(words) < 5:\n",
    "    word = input(\"enter word: \")\n",
    "    if word not in words:\n",
    "        words.append(word)\n",
    "\n",
    "print(words)"
   ]
  },
  {
   "cell_type": "markdown",
   "metadata": {},
   "source": [
    "## Check if value is a valid number"
   ]
  },
  {
   "cell_type": "code",
   "execution_count": 5,
   "metadata": {},
   "outputs": [
    {
     "name": "stdout",
     "output_type": "stream",
     "text": [
      "number: d\n",
      "fail\n"
     ]
    }
   ],
   "source": [
    "def is_int(value):\n",
    "    try:\n",
    "        int(value)\n",
    "    except ValueError:\n",
    "        return False\n",
    "    return True\n",
    "\n",
    "if is_int(input('number: ')):\n",
    "    print('success')\n",
    "else:\n",
    "    print('fail')"
   ]
  },
  {
   "cell_type": "code",
   "execution_count": null,
   "metadata": {},
   "outputs": [],
   "source": []
  }
 ],
 "metadata": {
  "kernelspec": {
   "display_name": "Python 3",
   "language": "python",
   "name": "python3"
  },
  "language_info": {
   "codemirror_mode": {
    "name": "ipython",
    "version": 3
   },
   "file_extension": ".py",
   "mimetype": "text/x-python",
   "name": "python",
   "nbconvert_exporter": "python",
   "pygments_lexer": "ipython3",
   "version": "3.6.6"
  }
 },
 "nbformat": 4,
 "nbformat_minor": 1
}
