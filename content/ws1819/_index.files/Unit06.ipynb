{
 "cells": [
  {
   "cell_type": "markdown",
   "metadata": {},
   "source": [
    "# Notes from assignment 1\n",
    "\n",
    "Number one mistake was not using the template!\n",
    "\n",
    "<div class=\"alert alert-danger\">\n",
    "This is for real:\n",
    "Nicht-Verwendung des Templates oder Änderungen desselben an nicht dafür vorgesehenen Stellen: 0 Punkte\n",
    "</div>\n",
    "\n",
    "The template for assignment 1 looked like this:"
   ]
  },
  {
   "cell_type": "code",
   "execution_count": 1,
   "metadata": {},
   "outputs": [],
   "source": [
    "'''\n",
    "Mode: most common number in a list\n",
    "'''\n",
    "\n",
    "def main():\n",
    "    #-------------------------------------------------------------------------\n",
    "    # TODO Write your code in this space, and only in this space!\n",
    "    #      You may expand this space as needed.\n",
    "    #      Do not modify anything else outside of this space.\n",
    "\n",
    "\n",
    "\n",
    "    #-------------------------------------------------------------------------\n",
    "    return\n",
    "\n",
    "if __name__ == \"__main__\":\n",
    "    main()"
   ]
  },
  {
   "cell_type": "markdown",
   "metadata": {},
   "source": [
    "# Pretty print\n",
    "\n",
    "[pprint](https://docs.python.org/3/library/pprint.html) lets you print large data structures in a easy to read way."
   ]
  },
  {
   "cell_type": "code",
   "execution_count": 17,
   "metadata": {},
   "outputs": [
    {
     "name": "stdout",
     "output_type": "stream",
     "text": [
      "[[0, 95, 89, 16, 30, 27, 86, 13, 65, 46, 46, 33, 7, 55, 98, 82, 60], [24, 23, 65, 30, 67, 34, 82, 37, 3, 72, 69, 78, 96, 85, 24, 75, 62, 84], [42, 67, 92, 57, 19, 54, 64, 45, 87, 10, 84, 5], [22, 56, 19, 4, 1, 61, 3, 83, 99, 6, 63, 74, 42, 14, 31, 9, 10, 43], [54, 69, 6, 18, 14, 60, 77, 82, 90, 73, 11, 82, 99, 31, 71, 14, 94, 29], [95, 33, 5, 64, 69, 26, 80, 22, 15, 13, 28, 63, 63, 93, 97, 19, 73, 0], [78, 28, 48, 37, 96, 37, 90, 3, 51, 0, 1, 66], [48, 61, 5, 30, 43, 9, 14, 90, 72, 50, 56, 34], [22, 29, 56, 45, 7, 44, 26, 6, 24, 47, 90, 31, 95, 38, 25, 13, 2, 26, 11, 22], [5, 73, 76, 92, 78, 24, 63, 66, 13, 1, 99], [50, 76, 62, 37, 19, 70, 85, 9, 46, 95, 71, 16, 15], [60, 3, 31, 17, 7, 61, 62, 91, 39, 41, 24], [49, 18, 65, 90, 18, 42, 42, 6, 40, 42, 17, 92], [43, 98, 70, 12, 12, 1, 42, 12, 44, 67], [89, 27, 35, 3, 54, 86, 66, 38, 23, 87, 76, 85, 29, 17, 82, 33]]\n",
      "==========\n",
      "[[0, 95, 89, 16, 30, 27, 86, 13, 65, 46, 46, 33, 7, 55, 98, 82, 60],\n",
      " [24, 23, 65, 30, 67, 34, 82, 37, 3, 72, 69, 78, 96, 85, 24, 75, 62, 84],\n",
      " [42, 67, 92, 57, 19, 54, 64, 45, 87, 10, 84, 5],\n",
      " [22, 56, 19, 4, 1, 61, 3, 83, 99, 6, 63, 74, 42, 14, 31, 9, 10, 43],\n",
      " [54, 69, 6, 18, 14, 60, 77, 82, 90, 73, 11, 82, 99, 31, 71, 14, 94, 29],\n",
      " [95, 33, 5, 64, 69, 26, 80, 22, 15, 13, 28, 63, 63, 93, 97, 19, 73, 0],\n",
      " [78, 28, 48, 37, 96, 37, 90, 3, 51, 0, 1, 66],\n",
      " [48, 61, 5, 30, 43, 9, 14, 90, 72, 50, 56, 34],\n",
      " [22, 29, 56, 45, 7, 44, 26, 6, 24, 47, 90, 31, 95, 38, 25, 13, 2, 26, 11, 22],\n",
      " [5, 73, 76, 92, 78, 24, 63, 66, 13, 1, 99],\n",
      " [50, 76, 62, 37, 19, 70, 85, 9, 46, 95, 71, 16, 15],\n",
      " [60, 3, 31, 17, 7, 61, 62, 91, 39, 41, 24],\n",
      " [49, 18, 65, 90, 18, 42, 42, 6, 40, 42, 17, 92],\n",
      " [43, 98, 70, 12, 12, 1, 42, 12, 44, 67],\n",
      " [89, 27, 35, 3, 54, 86, 66, 38, 23, 87, 76, 85, 29, 17, 82, 33]]\n"
     ]
    }
   ],
   "source": [
    "from random import randint, randrange\n",
    "\n",
    "# generate a random big structure\n",
    "structure = []\n",
    "for i in range(randint(10, 20)):\n",
    "    row = []\n",
    "    for i in range(randint(10, 20)):\n",
    "        row.append(randrange(100))\n",
    "    structure.append(row)\n",
    "    \n",
    "print(structure)\n",
    "\n",
    "from pprint import pprint\n",
    "print('='*10)\n",
    "pprint(structure)"
   ]
  },
  {
   "cell_type": "markdown",
   "metadata": {},
   "source": [
    "# Unit tests\n",
    "\n",
    "[Unittests](https://docs.python.org/3/library/unittest.html) let you atomatically test your wirtten code for correctness.\n",
    "\n",
    "Put the following code into a `.py` file:"
   ]
  },
  {
   "cell_type": "code",
   "execution_count": null,
   "metadata": {},
   "outputs": [],
   "source": [
    "import unittest\n",
    "\n",
    "class TestStringMethods(unittest.TestCase):\n",
    "\n",
    "    def test_upper(self):\n",
    "        self.assertEqual('foo'.upper(), 'FOO')\n",
    "\n",
    "    def test_isupper(self):\n",
    "        self.assertTrue('FOO'.isupper())\n",
    "        self.assertFalse('Foo'.isupper())\n",
    "\n",
    "    def test_split(self):\n",
    "        s = 'hello world'\n",
    "        self.assertEqual(s.split(), ['hello', 'world'])\n",
    "        # check that s.split fails when the separator is not a string\n",
    "        with self.assertRaises(TypeError):\n",
    "            s.split(2)\n",
    "            \n",
    "if __name__ == '__main__':\n",
    "    unittest.main()"
   ]
  },
  {
   "cell_type": "markdown",
   "metadata": {},
   "source": [
    "The output then should be:\n",
    "```\n",
    "[richi@wlx001 units]$ python3 Unit06.ex01.py \n",
    "...\n",
    "----------------------------------------------------------------------\n",
    "Ran 3 tests in 0.000s\n",
    "\n",
    "OK\n",
    "```"
   ]
  },
  {
   "cell_type": "markdown",
   "metadata": {},
   "source": [
    "# Example"
   ]
  },
  {
   "cell_type": "markdown",
   "metadata": {},
   "source": [
    "Imagine you want to test your self written `my_sqrt` function in the file `assx.py`:"
   ]
  },
  {
   "cell_type": "code",
   "execution_count": 3,
   "metadata": {},
   "outputs": [],
   "source": [
    "def my_sqrt(i):\n",
    "    if i < 0:\n",
    "        raise ValueError(\"no negative numbers!\")\n",
    "    return i**(1/2)"
   ]
  },
  {
   "cell_type": "markdown",
   "metadata": {},
   "source": [
    "To check the code you would have to exectute the function for every possible input and manually check the return values:"
   ]
  },
  {
   "cell_type": "code",
   "execution_count": 13,
   "metadata": {
    "scrolled": true
   },
   "outputs": [
    {
     "name": "stdout",
     "output_type": "stream",
     "text": [
      "3.0\n",
      "9.0\n"
     ]
    },
    {
     "ename": "ValueError",
     "evalue": "no negative numbers!",
     "output_type": "error",
     "traceback": [
      "\u001b[0;31m---------------------------------------------------------------------------\u001b[0m",
      "\u001b[0;31mValueError\u001b[0m                                Traceback (most recent call last)",
      "\u001b[0;32m<ipython-input-13-780fd7ad7318>\u001b[0m in \u001b[0;36m<module>\u001b[0;34m()\u001b[0m\n\u001b[1;32m      1\u001b[0m \u001b[0mprint\u001b[0m\u001b[0;34m(\u001b[0m\u001b[0mmy_sqrt\u001b[0m\u001b[0;34m(\u001b[0m\u001b[0;36m9\u001b[0m\u001b[0;34m)\u001b[0m\u001b[0;34m)\u001b[0m \u001b[0;31m# we expect 3\u001b[0m\u001b[0;34m\u001b[0m\u001b[0m\n\u001b[1;32m      2\u001b[0m \u001b[0mprint\u001b[0m\u001b[0;34m(\u001b[0m\u001b[0mmy_sqrt\u001b[0m\u001b[0;34m(\u001b[0m\u001b[0;36m81\u001b[0m\u001b[0;34m)\u001b[0m\u001b[0;34m)\u001b[0m \u001b[0;31m# we expect 9\u001b[0m\u001b[0;34m\u001b[0m\u001b[0m\n\u001b[0;32m----> 3\u001b[0;31m \u001b[0mprint\u001b[0m\u001b[0;34m(\u001b[0m\u001b[0mmy_sqrt\u001b[0m\u001b[0;34m(\u001b[0m\u001b[0;34m-\u001b[0m\u001b[0;36m1\u001b[0m\u001b[0;34m)\u001b[0m\u001b[0;34m)\u001b[0m \u001b[0;31m# we expect an exception\u001b[0m\u001b[0;34m\u001b[0m\u001b[0m\n\u001b[0m",
      "\u001b[0;32m<ipython-input-3-320875d8ee0a>\u001b[0m in \u001b[0;36mmy_sqrt\u001b[0;34m(i)\u001b[0m\n\u001b[1;32m      1\u001b[0m \u001b[0;32mdef\u001b[0m \u001b[0mmy_sqrt\u001b[0m\u001b[0;34m(\u001b[0m\u001b[0mi\u001b[0m\u001b[0;34m)\u001b[0m\u001b[0;34m:\u001b[0m\u001b[0;34m\u001b[0m\u001b[0m\n\u001b[1;32m      2\u001b[0m     \u001b[0;32mif\u001b[0m \u001b[0mi\u001b[0m \u001b[0;34m<\u001b[0m \u001b[0;36m0\u001b[0m\u001b[0;34m:\u001b[0m\u001b[0;34m\u001b[0m\u001b[0m\n\u001b[0;32m----> 3\u001b[0;31m         \u001b[0;32mraise\u001b[0m \u001b[0mValueError\u001b[0m\u001b[0;34m(\u001b[0m\u001b[0;34m\"no negative numbers!\"\u001b[0m\u001b[0;34m)\u001b[0m\u001b[0;34m\u001b[0m\u001b[0m\n\u001b[0m\u001b[1;32m      4\u001b[0m     \u001b[0;32mreturn\u001b[0m \u001b[0mi\u001b[0m\u001b[0;34m**\u001b[0m\u001b[0;34m(\u001b[0m\u001b[0;36m1\u001b[0m\u001b[0;34m/\u001b[0m\u001b[0;36m2\u001b[0m\u001b[0;34m)\u001b[0m\u001b[0;34m\u001b[0m\u001b[0m\n",
      "\u001b[0;31mValueError\u001b[0m: no negative numbers!"
     ]
    }
   ],
   "source": [
    "print(my_sqrt(9)) # we expect 3\n",
    "print(my_sqrt(81)) # we expect 9\n",
    "print(my_sqrt(-1)) # we expect an exception"
   ]
  },
  {
   "cell_type": "markdown",
   "metadata": {},
   "source": [
    "This can be automated with the unittest module:"
   ]
  },
  {
   "cell_type": "code",
   "execution_count": null,
   "metadata": {},
   "outputs": [],
   "source": []
  },
  {
   "cell_type": "markdown",
   "metadata": {},
   "source": [
    "# Student Example"
   ]
  },
  {
   "cell_type": "markdown",
   "metadata": {},
   "source": [
    "## Roman Numbers\n",
    "\n",
    "Write a function (`roman_to_dec(roman)`) which converts roman numbers to the decimal system. The decimal number should be returned. Ignore things like `IV` or `IX`.\n",
    "\n",
    "List of roman numbers to implement:\n",
    "- I: 1\n",
    "- V: 5\n",
    "- X: 10\n",
    "- L: 50\n",
    "- C: 100\n",
    "- D: 500\n",
    "- M: 1000"
   ]
  },
  {
   "cell_type": "code",
   "execution_count": 1,
   "metadata": {},
   "outputs": [
    {
     "name": "stdout",
     "output_type": "stream",
     "text": [
      "True\n",
      "True\n",
      "True\n"
     ]
    }
   ],
   "source": [
    "LETTERS = {\n",
    "    \"I\": 1,\n",
    "    \"V\": 5,\n",
    "    \"X\": 10,\n",
    "    \"L\": 50,\n",
    "    \"C\": 100,\n",
    "    \"D\": 500,\n",
    "    \"M\": 1000,\n",
    "}\n",
    "\n",
    "def convert_to_dec(roman):\n",
    "    result = 0\n",
    "    for c in roman:\n",
    "        result += LETTERS[c]\n",
    "    return result\n",
    "\n",
    "print(convert_to_dec(\"XVI\") == 16)\n",
    "print(convert_to_dec(\"MDCLXVI\") == 1666)\n",
    "print(convert_to_dec(\"DCCLXXVII\") == 777)"
   ]
  },
  {
   "cell_type": "markdown",
   "metadata": {},
   "source": [
    "## Solving Sudoku\n",
    "\n",
    "In the next unit(s) we will write a programm solving sudokus.\n",
    "\n",
    "First we start with a function `read_sudoku` which takes a `filename` and returns a 9x9 matrix of integers (two dimensional list e.g. `field[row][column]`).\n",
    "\n",
    "The example file looks like this:\n",
    "```\n",
    "___ __5 26_\n",
    "__7 6_1 3_8\n",
    "6__ _7_ __5\n",
    "\n",
    "2_5 _3_ 7_1\n",
    "_1_ ___ _3_\n",
    "7_4 _8_ 9_2\n",
    "\n",
    "3__ _9_ __6\n",
    "4_6 2_3 8__\n",
    "_21 8__ ___\n",
    "```\n",
    "When reading the file spaces and blank lines are ignored. `_` mark unsolved fields, which will be represented in the retunred matrix as zeros. Raise a `ValueError` upon visiting another character. The usage of [string.digits](https://docs.python.org/3/library/string.html#string.digits) is allowed"
   ]
  },
  {
   "cell_type": "code",
   "execution_count": null,
   "metadata": {},
   "outputs": [],
   "source": []
  }
 ],
 "metadata": {
  "kernelspec": {
   "display_name": "Python 3",
   "language": "python",
   "name": "python3"
  },
  "language_info": {
   "codemirror_mode": {
    "name": "ipython",
    "version": 3
   },
   "file_extension": ".py",
   "mimetype": "text/x-python",
   "name": "python",
   "nbconvert_exporter": "python",
   "pygments_lexer": "ipython3",
   "version": "3.6.6"
  }
 },
 "nbformat": 4,
 "nbformat_minor": 2
}
