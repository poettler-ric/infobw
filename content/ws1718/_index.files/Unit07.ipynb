{
 "cells": [
  {
   "cell_type": "markdown",
   "metadata": {},
   "source": [
    "# Tutorium\n",
    "\n",
    "## Notes from the assignments\n",
    "\n",
    "- Stick to requirements\n",
    "    - Filenames\n",
    "    - Function names and count of parameters\n",
    "    - Dialogs (spaces/newlines)\n",
    "- Proper variable names\n",
    "    - English\n",
    "    - No umlauts\n",
    "- Too many comments make the program less readable\n",
    "- Don't redefine keywords (e.g. list, float, str)"
   ]
  },
  {
   "cell_type": "code",
   "execution_count": 1,
   "metadata": {
    "collapsed": false
   },
   "outputs": [
    {
     "ename": "TypeError",
     "evalue": "'str' object is not callable",
     "output_type": "error",
     "traceback": [
      "\u001b[1;31m---------------------------------------------------------------------------\u001b[0m",
      "\u001b[1;31mTypeError\u001b[0m                                 Traceback (most recent call last)",
      "\u001b[1;32m<ipython-input-1-e56c9b1e1b1c>\u001b[0m in \u001b[0;36m<module>\u001b[1;34m()\u001b[0m\n\u001b[0;32m      6\u001b[0m         \u001b[1;32mreturn\u001b[0m \u001b[1;32mFalse\u001b[0m\u001b[1;33m\u001b[0m\u001b[0m\n\u001b[0;32m      7\u001b[0m \u001b[1;33m\u001b[0m\u001b[0m\n\u001b[1;32m----> 8\u001b[1;33m \u001b[0mcheck_float\u001b[0m\u001b[1;33m(\u001b[0m\u001b[1;34m\"4.5\"\u001b[0m\u001b[1;33m)\u001b[0m\u001b[1;33m\u001b[0m\u001b[0m\n\u001b[0m",
      "\u001b[1;32m<ipython-input-1-e56c9b1e1b1c>\u001b[0m in \u001b[0;36mcheck_float\u001b[1;34m(float)\u001b[0m\n\u001b[0;32m      1\u001b[0m \u001b[1;32mdef\u001b[0m \u001b[0mcheck_float\u001b[0m\u001b[1;33m(\u001b[0m\u001b[0mfloat\u001b[0m\u001b[1;33m)\u001b[0m\u001b[1;33m:\u001b[0m\u001b[1;33m\u001b[0m\u001b[0m\n\u001b[0;32m      2\u001b[0m     \u001b[1;32mtry\u001b[0m\u001b[1;33m:\u001b[0m\u001b[1;33m\u001b[0m\u001b[0m\n\u001b[1;32m----> 3\u001b[1;33m         \u001b[0mfloat\u001b[0m\u001b[1;33m(\u001b[0m\u001b[0mfloat\u001b[0m\u001b[1;33m)\u001b[0m\u001b[1;33m\u001b[0m\u001b[0m\n\u001b[0m\u001b[0;32m      4\u001b[0m         \u001b[1;32mreturn\u001b[0m \u001b[1;32mTrue\u001b[0m\u001b[1;33m\u001b[0m\u001b[0m\n\u001b[0;32m      5\u001b[0m     \u001b[1;32mexcept\u001b[0m \u001b[0mValueError\u001b[0m\u001b[1;33m:\u001b[0m\u001b[1;33m\u001b[0m\u001b[0m\n",
      "\u001b[1;31mTypeError\u001b[0m: 'str' object is not callable"
     ]
    }
   ],
   "source": [
    "def check_float(float): \n",
    "    try:\n",
    "        float(float)\n",
    "        return True\n",
    "    except ValueError:\n",
    "        return False\n",
    "    \n",
    "check_float(\"4.5\")"
   ]
  },
  {
   "cell_type": "markdown",
   "metadata": {},
   "source": [
    "- There is a difference between ```return``` and ```print```.\n",
    "- There is a difference between parameter and ```input```.\n",
    "- Avoid nesting functions"
   ]
  },
  {
   "cell_type": "code",
   "execution_count": 2,
   "metadata": {
    "collapsed": false
   },
   "outputs": [
    {
     "name": "stdout",
     "output_type": "stream",
     "text": [
      "hello world\n"
     ]
    }
   ],
   "source": [
    "def main():\n",
    "    s = \"hello world\"\n",
    "    def new_func(): # don't do this!\n",
    "        print(s)\n",
    "        \n",
    "    new_func()\n",
    "    \n",
    "if __name__ == '__main__':\n",
    "    main()"
   ]
  },
  {
   "cell_type": "markdown",
   "metadata": {},
   "source": [
    "- Consider using booleans (they are fast)"
   ]
  },
  {
   "cell_type": "code",
   "execution_count": 7,
   "metadata": {
    "collapsed": false
   },
   "outputs": [
    {
     "name": "stdout",
     "output_type": "stream",
     "text": [
      "is a - wrong\n",
      "is a - correct\n"
     ]
    }
   ],
   "source": [
    "def check_for_a_wrong(a):\n",
    "    if a == 'a':\n",
    "        return 'true'\n",
    "    else:\n",
    "        return 'false'\n",
    "\n",
    "def check_for_a_correct(a):\n",
    "    return a == 'a'\n",
    "\n",
    "if check_for_a_wrong('a') == 'true':\n",
    "    print(\"is a - wrong\")\n",
    "    \n",
    "if check_for_a_correct('a'):\n",
    "    print(\"is a - correct\")"
   ]
  },
  {
   "cell_type": "markdown",
   "metadata": {},
   "source": [
    "- Don't use global variables"
   ]
  },
  {
   "cell_type": "code",
   "execution_count": 3,
   "metadata": {
    "collapsed": false
   },
   "outputs": [
    {
     "name": "stdout",
     "output_type": "stream",
     "text": [
      "1\n",
      "asdf\n"
     ]
    },
    {
     "ename": "TypeError",
     "evalue": "Can't convert 'int' object to str implicitly",
     "output_type": "error",
     "traceback": [
      "\u001b[1;31m---------------------------------------------------------------------------\u001b[0m",
      "\u001b[1;31mTypeError\u001b[0m                                 Traceback (most recent call last)",
      "\u001b[1;32m<ipython-input-3-a27196a37054>\u001b[0m in \u001b[0;36m<module>\u001b[1;34m()\u001b[0m\n\u001b[0;32m     23\u001b[0m \u001b[0mprint\u001b[0m\u001b[1;33m(\u001b[0m\u001b[0mget_var\u001b[0m\u001b[1;33m(\u001b[0m\u001b[1;33m)\u001b[0m\u001b[1;33m)\u001b[0m\u001b[1;33m\u001b[0m\u001b[0m\n\u001b[0;32m     24\u001b[0m \u001b[1;33m\u001b[0m\u001b[0m\n\u001b[1;32m---> 25\u001b[1;33m \u001b[0mprint\u001b[0m\u001b[1;33m(\u001b[0m\u001b[0mcount\u001b[0m\u001b[1;33m(\u001b[0m\u001b[1;33m)\u001b[0m\u001b[1;33m)\u001b[0m\u001b[1;33m\u001b[0m\u001b[0m\n\u001b[0m",
      "\u001b[1;32m<ipython-input-3-a27196a37054>\u001b[0m in \u001b[0;36mcount\u001b[1;34m()\u001b[0m\n\u001b[0;32m     14\u001b[0m \u001b[1;32mdef\u001b[0m \u001b[0mcount\u001b[0m\u001b[1;33m(\u001b[0m\u001b[1;33m)\u001b[0m\u001b[1;33m:\u001b[0m\u001b[1;33m\u001b[0m\u001b[0m\n\u001b[0;32m     15\u001b[0m     \u001b[1;32mglobal\u001b[0m \u001b[0mmemory\u001b[0m\u001b[1;33m\u001b[0m\u001b[0m\n\u001b[1;32m---> 16\u001b[1;33m     \u001b[0mmemory\u001b[0m \u001b[1;33m+=\u001b[0m \u001b[1;36m1\u001b[0m\u001b[1;33m\u001b[0m\u001b[0m\n\u001b[0m\u001b[0;32m     17\u001b[0m     \u001b[1;32mreturn\u001b[0m \u001b[0mmemory\u001b[0m\u001b[1;33m\u001b[0m\u001b[0m\n\u001b[0;32m     18\u001b[0m \u001b[1;33m\u001b[0m\u001b[0m\n",
      "\u001b[1;31mTypeError\u001b[0m: Can't convert 'int' object to str implicitly"
     ]
    }
   ],
   "source": [
    "# code from developer a\n",
    "def remember_var(val):\n",
    "    global memory\n",
    "    memory = val\n",
    "    \n",
    "def get_var():\n",
    "    return memory\n",
    "\n",
    "# code from developer it_cob\n",
    "def init_counter():\n",
    "    global memory\n",
    "    memory = 0\n",
    "    \n",
    "def count():\n",
    "    global memory\n",
    "    memory += 1\n",
    "    return memory\n",
    "\n",
    "init_counter()\n",
    "print(count())\n",
    "\n",
    "remember_var(\"asdf\")\n",
    "print(get_var())\n",
    "\n",
    "print(count())"
   ]
  },
  {
   "cell_type": "markdown",
   "metadata": {},
   "source": [
    "## Student Task 1\n",
    "\n",
    "Write a function ```is_pallindrome(word)``` which checks whether a word is a Pallindrome (a word, which forwards and backwards spells the same). The function should return ```True``` or ```False```."
   ]
  },
  {
   "cell_type": "code",
   "execution_count": 6,
   "metadata": {
    "collapsed": false
   },
   "outputs": [
    {
     "name": "stdout",
     "output_type": "stream",
     "text": [
      "True\n",
      "True\n"
     ]
    }
   ],
   "source": [
    "def check_pallindrome_slice(word):\n",
    "    return word == word[::-1]\n",
    "\n",
    "def check_pallindrome_loop(word):\n",
    "    for i in range(len(word)):\n",
    "        if not word[i] == word[len(word) - 1 - i]:\n",
    "            return False\n",
    "    return True\n",
    "\n",
    "print(check_pallindrome_slice(\"otto\"))\n",
    "print(check_pallindrome_slice(\"asdf\") == False)"
   ]
  },
  {
   "cell_type": "markdown",
   "metadata": {},
   "source": [
    "## Student Task 2\n",
    "\n",
    "Write a function (```roman_to_dec(roman)```) which converts roman numbers to the decimal system. The decimal number should be returned. Ignore things like ```IV``` or ```IX```.\n",
    "\n",
    "List of roman numbers to implement:\n",
    "- I: 1\n",
    "- V: 5\n",
    "- X: 10\n",
    "- L: 50\n",
    "- C: 100\n",
    "- D: 500\n",
    "- M: 1000"
   ]
  },
  {
   "cell_type": "code",
   "execution_count": 8,
   "metadata": {
    "collapsed": false
   },
   "outputs": [
    {
     "name": "stdout",
     "output_type": "stream",
     "text": [
      "True\n",
      "True\n",
      "True\n"
     ]
    }
   ],
   "source": [
    "LETTERS = {\n",
    "    \"I\": 1,\n",
    "    \"V\": 5,\n",
    "    \"X\": 10,\n",
    "    \"L\": 50,\n",
    "    \"C\": 100,\n",
    "    \"D\": 500,\n",
    "    \"M\": 1000,\n",
    "}\n",
    "\n",
    "def convert_to_dec(roman):\n",
    "    result = 0\n",
    "    for c in roman:\n",
    "        result += LETTERS[c]\n",
    "    return result\n",
    "\n",
    "print(convert_to_dec(\"XVI\") == 16)\n",
    "print(convert_to_dec(\"MDCLXVI\") == 1666)\n",
    "print(convert_to_dec(\"DCCLXXVII\") == 777)"
   ]
  },
  {
   "cell_type": "markdown",
   "metadata": {},
   "source": [
    "## Bonus Task\n",
    "\n",
    "Write a Function to convert numbers from the decimal system to binary and vice versa. Use strings to represnt binary numbers. The signature of the functions should be as follows:\n",
    "\n",
    "- ```to_binary(decimal)```\n",
    "- ```to_decimal(binary)```"
   ]
  },
  {
   "cell_type": "markdown",
   "metadata": {},
   "source": [
    "## Backtracking\n",
    "\n",
    "https://www.youtube.com/watch?v=xouin83ebxE\n",
    "\n",
    "https://github.com/poettler-ric/junkcode_python/blob/master/basic/queens.py"
   ]
  },
  {
   "cell_type": "markdown",
   "metadata": {
    "collapsed": true
   },
   "source": [
    "## Previous assignments\n",
    "\n",
    "### Convert from nautical miles to land miles\n",
    "\n",
    "### Calculate the center of gravity of combined shapes\n",
    "\n",
    "See Mechanic scriptum.\n",
    "\n",
    "Defining of shapes:\n",
    "\n",
    "- rectangle: ```r x y w h```\n",
    "    - coordinate of left lower point\n",
    "    - width\n",
    "    - height\n",
    "- circle: ```c x y r```\n",
    "    - center coordinate\n",
    "    - radius\n",
    "- rectangle right (vertical side on the right): ```rtr r x y w h```\n",
    "    - coordinate of left lower point\n",
    "    - width\n",
    "    - height\n",
    "- rectangle left (vertical side on the left): ```rtl r x y w h```\n",
    "    - coordinate of left lower point\n",
    "    - width\n",
    "    - height\n",
    "\n",
    "Use ```+``` or ```-``` to add or subtract shapes\n",
    "\n",
    "```\n",
    "python assignment2.py + r 0 0 4 3 - r 1 0 3 2\n",
    "python assignment2.py + rtr 0 0 3 6 + rtl 3 0 3 6 - c 3 1.5 1\n",
    "```\n"
   ]
  },
  {
   "cell_type": "code",
   "execution_count": null,
   "metadata": {
    "collapsed": true
   },
   "outputs": [],
   "source": []
  }
 ],
 "metadata": {
  "kernelspec": {
   "display_name": "Python 3",
   "language": "python",
   "name": "python3"
  },
  "language_info": {
   "codemirror_mode": {
    "name": "ipython",
    "version": 3
   },
   "file_extension": ".py",
   "mimetype": "text/x-python",
   "name": "python",
   "nbconvert_exporter": "python",
   "pygments_lexer": "ipython3",
   "version": "3.5.4"
  }
 },
 "nbformat": 4,
 "nbformat_minor": 0
}
