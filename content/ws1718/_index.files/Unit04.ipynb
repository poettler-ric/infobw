{
 "cells": [
  {
   "cell_type": "markdown",
   "metadata": {},
   "source": [
    "# Unit 03 - Sequence Types\n",
    "\n",
    "https://docs.python.org/3/library/stdtypes.html#sequence-types-list-tuple-range\n",
    "\n",
    "## Lists\n",
    "General form:"
   ]
  },
  {
   "cell_type": "code",
   "execution_count": 1,
   "metadata": {
    "collapsed": true
   },
   "outputs": [],
   "source": [
    "my_list = ['a', 'b', 'c']"
   ]
  },
  {
   "cell_type": "markdown",
   "metadata": {},
   "source": [
    "Accessing elements in a list via indexes. Indexes are 0 based."
   ]
  },
  {
   "cell_type": "code",
   "execution_count": 3,
   "metadata": {
    "collapsed": false
   },
   "outputs": [
    {
     "name": "stdout",
     "output_type": "stream",
     "text": [
      "a\n",
      "c\n",
      "b\n",
      "c\n",
      "b\n"
     ]
    }
   ],
   "source": [
    "print(my_list[0])\n",
    "print(my_list[2])\n",
    "print(my_list[1])\n",
    "print(my_list[-1])\n",
    "print(my_list[-2])\n"
   ]
  },
  {
   "cell_type": "markdown",
   "metadata": {},
   "source": [
    "There are several ways to interact with lists"
   ]
  },
  {
   "cell_type": "code",
   "execution_count": 4,
   "metadata": {
    "collapsed": false
   },
   "outputs": [
    {
     "name": "stdout",
     "output_type": "stream",
     "text": [
      "['a', 'b', 'c', 'b', 'b']\n",
      "5\n",
      "True\n",
      "1\n"
     ]
    }
   ],
   "source": [
    "my_list.append('b')\n",
    "my_list.append('b')\n",
    "print(my_list)\n",
    "\n",
    "print(len(my_list)) # len() function returns the number of items in a list\n",
    "print('b' in my_list) # in checks whether a item is in a list\n",
    "print(my_list.index('b')) # the index method returns the index of an element"
   ]
  },
  {
   "cell_type": "markdown",
   "metadata": {},
   "source": [
    "### Adding and removing elements\n",
    "This can be done with the append and del function."
   ]
  },
  {
   "cell_type": "markdown",
   "metadata": {},
   "source": [
    "Example:"
   ]
  },
  {
   "cell_type": "code",
   "execution_count": 7,
   "metadata": {
    "collapsed": false
   },
   "outputs": [
    {
     "name": "stdout",
     "output_type": "stream",
     "text": [
      "['Peter', 'Hans', 'Sandra', 'Lisa']\n"
     ]
    }
   ],
   "source": [
    "students = [\"Peter\", \"Hans\", \"Sandra\"]\n",
    "students.append(\"Lisa\")\n",
    "print(students)"
   ]
  },
  {
   "cell_type": "code",
   "execution_count": 8,
   "metadata": {
    "collapsed": false
   },
   "outputs": [
    {
     "name": "stdout",
     "output_type": "stream",
     "text": [
      "Sandra\n",
      "['Peter', 'Hans', 'Lisa']\n"
     ]
    }
   ],
   "source": [
    "print(students[2])\n",
    "del(students[2])\n",
    "print(students)"
   ]
  },
  {
   "cell_type": "markdown",
   "metadata": {},
   "source": [
    "### Iterating over a list - for\n",
    "\n",
    "Keyword: \"für jedes Element\""
   ]
  },
  {
   "cell_type": "code",
   "execution_count": 9,
   "metadata": {
    "collapsed": false
   },
   "outputs": [
    {
     "name": "stdout",
     "output_type": "stream",
     "text": [
      "a\n",
      "b\n",
      "c\n",
      "b\n",
      "b\n"
     ]
    }
   ],
   "source": [
    "for i in my_list:\n",
    "    print(i)"
   ]
  },
  {
   "cell_type": "markdown",
   "metadata": {},
   "source": [
    "Keywords like ```continue``` and ```break``` work for ```for```-loops, too:"
   ]
  },
  {
   "cell_type": "code",
   "execution_count": 30,
   "metadata": {
    "collapsed": false
   },
   "outputs": [
    {
     "name": "stdout",
     "output_type": "stream",
     "text": [
      "Hans\n"
     ]
    }
   ],
   "source": [
    "for s in students:\n",
    "    if s == \"Peter\":\n",
    "        continue\n",
    "    if s == \"Lisa\":\n",
    "        break\n",
    "    print(s)"
   ]
  },
  {
   "cell_type": "markdown",
   "metadata": {},
   "source": [
    "### Slices\n",
    "\n",
    "With slices a portions of a list can be accessed. General form:"
   ]
  },
  {
   "cell_type": "code",
   "execution_count": 13,
   "metadata": {
    "collapsed": false
   },
   "outputs": [
    {
     "data": {
      "text/plain": [
       "[]"
      ]
     },
     "execution_count": 13,
     "metadata": {},
     "output_type": "execute_result"
    }
   ],
   "source": [
    "start, end, step = 0, 0, 1 # end is exclusive\n",
    "my_list[start:end:step]"
   ]
  },
  {
   "cell_type": "markdown",
   "metadata": {},
   "source": [
    "Notes:\n",
    "\n",
    "- If start or end they default to the start or end of the list\n",
    "- If step is not given it defaults to 1"
   ]
  },
  {
   "cell_type": "code",
   "execution_count": 22,
   "metadata": {
    "collapsed": false
   },
   "outputs": [
    {
     "name": "stdout",
     "output_type": "stream",
     "text": [
      "[10, 11, 12, 13, 14, 15, 16, 17, 18, 19]\n",
      "[10, 12, 14, 16, 18]\n",
      "[20, 19, 18, 17, 16, 15, 14, 13, 12, 11]\n",
      "[99, 98]\n",
      "[99, 98, 97, 96, 95, 94, 93, 92, 91, 90, 89, 88, 87, 86, 85, 84, 83, 82, 81, 80, 79, 78, 77, 76, 75, 74, 73, 72, 71, 70, 69, 68, 67, 66, 65, 64, 63, 62, 61, 60, 59, 58, 57, 56, 55, 54, 53, 52, 51, 50, 49, 48, 47, 46, 45, 44, 43, 42, 41, 40, 39, 38, 37, 36, 35, 34, 33, 32, 31, 30, 29, 28, 27, 26, 25, 24, 23, 22, 21, 20, 19, 18, 17, 16, 15, 14, 13, 12, 11, 10, 9, 8, 7, 6, 5, 4, 3, 2, 1, 0]\n"
     ]
    }
   ],
   "source": [
    "numbers = list(range(100))\n",
    "\n",
    "print(numbers[10:20])\n",
    "print(numbers[10:20:2])\n",
    "print(numbers[20:10:-1])\n",
    "print(numbers[-1:-3:-1])\n",
    "print(numbers[::-1])"
   ]
  },
  {
   "cell_type": "markdown",
   "metadata": {},
   "source": [
    "### Range\n",
    "\n",
    "https://docs.python.org/3/library/functions.html#func-range\n",
    "\n",
    "Range generates a list on the fly. General form:"
   ]
  },
  {
   "cell_type": "code",
   "execution_count": 15,
   "metadata": {
    "collapsed": false
   },
   "outputs": [
    {
     "data": {
      "text/plain": [
       "range(0, 0)"
      ]
     },
     "execution_count": 15,
     "metadata": {},
     "output_type": "execute_result"
    }
   ],
   "source": [
    "range(start, end, step)"
   ]
  },
  {
   "cell_type": "code",
   "execution_count": 10,
   "metadata": {
    "collapsed": false
   },
   "outputs": [
    {
     "name": "stdout",
     "output_type": "stream",
     "text": [
      "0\n",
      "1\n",
      "2\n",
      "3\n",
      "4\n",
      "5\n",
      "6\n",
      "7\n",
      "8\n",
      "9\n"
     ]
    }
   ],
   "source": [
    "i = 0\n",
    "while i < 10:\n",
    "    print(i)\n",
    "    i += 1"
   ]
  },
  {
   "cell_type": "code",
   "execution_count": 11,
   "metadata": {
    "collapsed": false
   },
   "outputs": [
    {
     "name": "stdout",
     "output_type": "stream",
     "text": [
      "0\n",
      "1\n",
      "2\n",
      "3\n",
      "4\n",
      "5\n",
      "6\n",
      "7\n",
      "8\n",
      "9\n"
     ]
    }
   ],
   "source": [
    "for i in range(10):\n",
    "    print(i)"
   ]
  },
  {
   "cell_type": "markdown",
   "metadata": {},
   "source": [
    "E.g. you could print alle even numbers:"
   ]
  },
  {
   "cell_type": "code",
   "execution_count": 12,
   "metadata": {
    "collapsed": false
   },
   "outputs": [
    {
     "name": "stdout",
     "output_type": "stream",
     "text": [
      "to: 30\n",
      "0\n",
      "2\n",
      "4\n",
      "6\n",
      "8\n",
      "10\n",
      "12\n",
      "14\n",
      "16\n",
      "18\n",
      "20\n",
      "22\n",
      "24\n",
      "26\n",
      "28\n"
     ]
    }
   ],
   "source": [
    "to = int(input('to: '))\n",
    "for i in range(0, to, 2):\n",
    "    print(i)"
   ]
  },
  {
   "cell_type": "markdown",
   "metadata": {},
   "source": [
    "## Strings\n",
    "\n",
    "Strings are lists of characters. A character represents a single letter. Therefore operations working on lists also work on strings."
   ]
  },
  {
   "cell_type": "code",
   "execution_count": 13,
   "metadata": {
    "collapsed": false
   },
   "outputs": [
    {
     "name": "stdout",
     "output_type": "stream",
     "text": [
      "or\n",
      "w\n",
      "o\n",
      "r\n",
      "d\n",
      "True\n"
     ]
    }
   ],
   "source": [
    "word = \"word\"\n",
    "print(word[1:3])\n",
    "for c in word:\n",
    "    print(c)\n",
    "    \n",
    "print(\"or\" in word)"
   ]
  },
  {
   "cell_type": "markdown",
   "metadata": {},
   "source": [
    "## Reading command line arguments\n",
    "\n",
    "https://docs.python.org/3/library/sys.html#sys.argv\n",
    "\n",
    "When python starts it automatically creates a list of strings containing additional parameters given on the command line. It can be accessed with ```sys.argv```.\n",
    "\n",
    "Put the following in to a Python file (e.g. arguments.py):"
   ]
  },
  {
   "cell_type": "code",
   "execution_count": 19,
   "metadata": {
    "collapsed": false
   },
   "outputs": [
    {
     "name": "stdout",
     "output_type": "stream",
     "text": [
      "argument at position 0: /usr/lib/python3.5/site-packages/IPython/kernel/__main__.py (<class 'str'>)\n",
      "argument at position 1: -f (<class 'str'>)\n",
      "argument at position 2: /home/richi/.ipython/profile_default/security/kernel-35c4f298-e3ce-48cb-b30c-362e8e5660d6.json (<class 'str'>)\n",
      "argument at position 3: --profile-dir (<class 'str'>)\n",
      "argument at position 4: /home/richi/.ipython/profile_default (<class 'str'>)\n"
     ]
    }
   ],
   "source": [
    "import sys\n",
    "\n",
    "for i in range(len(sys.argv)):\n",
    "    print(\"argument at position {}: {} ({})\".format(i, sys.argv[i], type(sys.argv[i])))"
   ]
  },
  {
   "cell_type": "markdown",
   "metadata": {},
   "source": [
    "Then call it with:\n",
    "```\n",
    "python3 arguments.py 0.1 2 hello world\n",
    "```\n",
    "\n",
    "You then should see something like:\n",
    "\n",
    "```\n",
    "[richi@wlx001 tmp]$ python3 arguments.py 0.1 2 hello world\n",
    "argument at position 0: arguments.py (<class 'str'>)\n",
    "argument at position 1: 0.1 (<class 'str'>)\n",
    "argument at position 2: 2 (<class 'str'>)\n",
    "argument at position 3: hello (<class 'str'>)\n",
    "argument at position 4: world (<class 'str'>)\n",
    "```"
   ]
  },
  {
   "cell_type": "markdown",
   "metadata": {},
   "source": [
    "Note that all arguments are still strings and have to be castet to the desired type.\n",
    "\n",
    "With ```argv``` something like this it is possible to implement a bonus flag to e.g. an assignment:"
   ]
  },
  {
   "cell_type": "code",
   "execution_count": 20,
   "metadata": {
    "collapsed": false
   },
   "outputs": [
    {
     "name": "stdout",
     "output_type": "stream",
     "text": [
      "normal execution\n"
     ]
    }
   ],
   "source": [
    "from sys import argv\n",
    "\n",
    "bonus = False\n",
    "\n",
    "def print_hangman():\n",
    "    if bonus:\n",
    "        print(\"bonus is enabled\")\n",
    "    print(\"normal execution\")\n",
    "\n",
    "if __name__ == '__main__':\n",
    "    bonus = '-b' in argv\n",
    "    print_hangman()\n"
   ]
  },
  {
   "cell_type": "markdown",
   "metadata": {},
   "source": [
    "## Dictionaries\n",
    "\n",
    "https://docs.python.org/3/library/stdtypes.html#mapping-types-dict\n",
    "\n",
    "They from a certain key to a mapped value (like a word dictionary).\n",
    "\n",
    "Syntax wise dictionaries are very similar to arrays. With the following mayor differences:\n",
    "\n",
    "- There is no defined order of the elements (the order might change from execution to execution)\n",
    "- Every key value must be hashable\n",
    "- Key values should be immutable\n",
    "\n",
    "General form:"
   ]
  },
  {
   "cell_type": "code",
   "execution_count": 14,
   "metadata": {
    "collapsed": false
   },
   "outputs": [
    {
     "name": "stdout",
     "output_type": "stream",
     "text": [
      "{'key3': 'value3', 'key2': 'value2', 'key1': 'value1'}\n"
     ]
    }
   ],
   "source": [
    "my_dict = {'key1': 'value1', 'key2': 'value2', 'key3': 'value3'}\n",
    "print(my_dict) # mind the order!"
   ]
  },
  {
   "cell_type": "markdown",
   "metadata": {},
   "source": [
    "E.g."
   ]
  },
  {
   "cell_type": "code",
   "execution_count": 1,
   "metadata": {
    "collapsed": false
   },
   "outputs": [
    {
     "name": "stdout",
     "output_type": "stream",
     "text": [
      "10\n",
      "6\n",
      "{'apples': 5, 'eggs': 6}\n",
      "{'apples': 5, 'beer': 6, 'eggs': 6}\n"
     ]
    }
   ],
   "source": [
    "shopping_list = {\n",
    "    'apples': 5,\n",
    "    'salt': 1,\n",
    "    'eggs': 10,\n",
    "}\n",
    "\n",
    "# changing value\n",
    "print(shopping_list['eggs'])\n",
    "shopping_list['eggs'] = 6\n",
    "\n",
    "print(shopping_list['eggs'])\n",
    "\n",
    "# deleting value\n",
    "del(shopping_list['salt'])\n",
    "print(shopping_list)\n",
    "\n",
    "# adding a value to a dictionary\n",
    "shopping_list['beer'] = 6\n",
    "print(shopping_list)"
   ]
  },
  {
   "cell_type": "markdown",
   "metadata": {},
   "source": [
    "### Iterating over a dictionary\n",
    "\n",
    "Similar to lists.\n",
    "\n",
    "With a simple for loop you just iterate over the keys:"
   ]
  },
  {
   "cell_type": "code",
   "execution_count": 16,
   "metadata": {
    "collapsed": false
   },
   "outputs": [
    {
     "name": "stdout",
     "output_type": "stream",
     "text": [
      "eggs\n",
      "apples\n",
      "beer\n"
     ]
    }
   ],
   "source": [
    "for i in shopping_list:\n",
    "    print(i)"
   ]
  },
  {
   "cell_type": "markdown",
   "metadata": {},
   "source": [
    "To get the values, too you need the ```.items()``` method:"
   ]
  },
  {
   "cell_type": "code",
   "execution_count": 17,
   "metadata": {
    "collapsed": false
   },
   "outputs": [
    {
     "name": "stdout",
     "output_type": "stream",
     "text": [
      "eggs -> 6\n",
      "apples -> 5\n",
      "beer -> 6\n"
     ]
    }
   ],
   "source": [
    "for key, value in shopping_list.items():\n",
    "    print(\"{} -> {}\".format(key, value))"
   ]
  },
  {
   "cell_type": "markdown",
   "metadata": {},
   "source": [
    "There is a possibility to get the whole thing sorted:"
   ]
  },
  {
   "cell_type": "code",
   "execution_count": 18,
   "metadata": {
    "collapsed": false
   },
   "outputs": [
    {
     "name": "stdout",
     "output_type": "stream",
     "text": [
      "apples -> 5\n",
      "beer -> 6\n",
      "eggs -> 6\n"
     ]
    }
   ],
   "source": [
    "for key, value in sorted(shopping_list.items()):\n",
    "    print(\"{} -> {}\".format(key, value))"
   ]
  },
  {
   "cell_type": "markdown",
   "metadata": {},
   "source": [
    "## Off Topic: Reading files\n",
    "\n",
    "A file must be opened before reading. The ```with``` automaticall closes the file after leaving the block."
   ]
  },
  {
   "cell_type": "code",
   "execution_count": 6,
   "metadata": {
    "collapsed": false
   },
   "outputs": [
    {
     "name": "stdout",
     "output_type": "stream",
     "text": [
      "from sys import argv\n",
      "\n",
      "bonus = False\n",
      "\n",
      "def print_hangman():\n",
      "    if bonus:\n",
      "        print(\"bonus is enabled\")\n",
      "    print(\"normal execution\")\n",
      "\n",
      "if __name__ == '__main__':\n",
      "    bonus = '-b' in argv\n",
      "    print_hangman()\n"
     ]
    }
   ],
   "source": [
    "with open('bonus.py') as f:\n",
    "    for l in f:\n",
    "        print(l.rstrip())\n"
   ]
  },
  {
   "cell_type": "markdown",
   "metadata": {},
   "source": [
    "Checkting whether the user entered a non whitespace character at all"
   ]
  },
  {
   "cell_type": "code",
   "execution_count": 5,
   "metadata": {
    "collapsed": false
   },
   "outputs": [
    {
     "name": "stdout",
     "output_type": "stream",
     "text": [
      "char: a\n",
      "'a' 1\n",
      "char: df\n",
      "'df' 2\n",
      "char: df\n",
      "'df' 2\n",
      "char:   a\n",
      "'a' 1\n",
      "char:        \n",
      "'' 0\n"
     ]
    }
   ],
   "source": [
    "c = ' '\n",
    "while c:\n",
    "    c = input('char: ')\n",
    "    c = c.strip()\n",
    "    print(\"'{}' {}\".format(c, len(c)))"
   ]
  },
  {
   "cell_type": "markdown",
   "metadata": {},
   "source": [
    "## Programming Example\n",
    "\n",
    "Write a function which reverses a string and returns the result."
   ]
  },
  {
   "cell_type": "code",
   "execution_count": 24,
   "metadata": {
    "collapsed": false
   },
   "outputs": [
    {
     "name": "stdout",
     "output_type": "stream",
     "text": [
      "word: adf\n",
      "normal: fda\n",
      "slice: fda\n"
     ]
    }
   ],
   "source": [
    "def my_reverse(word):\n",
    "    result = []\n",
    "    for i in range(len(word) - 1, -1, -1):\n",
    "        result.append(word[i])\n",
    "    return \"\".join(result)\n",
    "\n",
    "def reverse_slice(word):\n",
    "    return word[::-1]\n",
    "    \n",
    "w = input('word: ')\n",
    "print(\"normal: {}\".format(my_reverse(w)))\n",
    "print(\"slice: {}\".format(reverse_slice(w)))"
   ]
  },
  {
   "cell_type": "markdown",
   "metadata": {},
   "source": [
    "## Student Example\n",
    "Write a function sorting a list of numbers\n",
    "\n",
    "Alternative: Write a function calculating the mean of a list of numbers."
   ]
  },
  {
   "cell_type": "code",
   "execution_count": 2,
   "metadata": {
    "collapsed": false
   },
   "outputs": [
    {
     "name": "stdout",
     "output_type": "stream",
     "text": [
      "[3, 2, 4, 5, 8, 0, 6, 1, 7, 9]\n",
      "[0, 1, 2, 3, 4, 5, 6, 7, 8, 9]\n"
     ]
    }
   ],
   "source": [
    "from random import shuffle\n",
    "\n",
    "def my_sort(l):\n",
    "    changed = True\n",
    "    while changed:\n",
    "        changed =False\n",
    "        for i in range(len(l)-1):\n",
    "            if l[i] > l[i+1]:\n",
    "                l[i], l[i+1] = l[i +1], l[i]\n",
    "                changed = True\n",
    "                \n",
    "    return l\n",
    "\n",
    "numbers = list(range(10))\n",
    "shuffle(numbers)\n",
    "print(numbers)\n",
    "print(my_sort(numbers))"
   ]
  },
  {
   "cell_type": "code",
   "execution_count": 3,
   "metadata": {
    "collapsed": false
   },
   "outputs": [
    {
     "name": "stdout",
     "output_type": "stream",
     "text": [
      "4.5\n"
     ]
    }
   ],
   "source": [
    "def my_mean(l):\n",
    "    s = 0\n",
    "    for i in l:\n",
    "        s += i\n",
    "    \n",
    "    return s/len(l)\n",
    "\n",
    "print(my_mean(list(range(10))))"
   ]
  },
  {
   "cell_type": "code",
   "execution_count": null,
   "metadata": {
    "collapsed": true
   },
   "outputs": [],
   "source": []
  }
 ],
 "metadata": {
  "kernelspec": {
   "display_name": "Python 3",
   "language": "python",
   "name": "python3"
  },
  "language_info": {
   "codemirror_mode": {
    "name": "ipython",
    "version": 3
   },
   "file_extension": ".py",
   "mimetype": "text/x-python",
   "name": "python",
   "nbconvert_exporter": "python",
   "pygments_lexer": "ipython3",
   "version": "3.5.4"
  }
 },
 "nbformat": 4,
 "nbformat_minor": 0
}
