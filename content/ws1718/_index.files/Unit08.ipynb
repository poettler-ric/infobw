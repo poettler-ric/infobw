{
 "cells": [
  {
   "cell_type": "markdown",
   "metadata": {},
   "source": [
    "# Unit 08\n",
    "\n",
    "## Lists vs Dictionaries\n",
    "\n",
    "Both are collections.\n",
    "\n",
    "### Lists\n",
    "\n",
    "Ordered list of values referenced by consecutive integers.\n",
    "\n",
    "### Dictionaries\n",
    "\n",
    "Mappings from one unique key to a value.\n",
    "\n",
    "### Comparison\n",
    "\n",
    "|          | List | Dictionary |\n",
    "|----------|------|------------|\n",
    "| Indexing | int | any value |\n",
    "| Ordering | strict | random |\n",
    "| Slicing  | yes | no |"
   ]
  },
  {
   "cell_type": "code",
   "execution_count": 2,
   "metadata": {
    "collapsed": false
   },
   "outputs": [
    {
     "name": "stdout",
     "output_type": "stream",
     "text": [
      "=== creation\n",
      "['a', 'b', 'c']\n",
      "{'a': 'another', 'b': 'val2', 'c': 'val3'}\n",
      "=== adding\n",
      "['a', 'b', 'c', 'd']\n",
      "{'a': 'another', 'd': 'thing', 'b': 'val2', 'c': 'val3'}\n",
      "=== deleting\n",
      "['b', 'c', 'd']\n",
      "{'d': 'thing', 'b': 'val2', 'c': 'val3'}\n",
      "=== accessing\n",
      "b\n",
      "val2\n",
      "=== iterating list\n",
      "b\n",
      "c\n",
      "d\n",
      "=== iterating dictionary keys\n",
      "d\n",
      "b\n",
      "c\n",
      "=== iterating dictionary keys and values\n",
      "d -> thing\n",
      "b -> val2\n",
      "c -> val3\n",
      "=== iterating dictionary keys and values - sorted\n",
      "b -> val2\n",
      "c -> val3\n",
      "d -> thing\n"
     ]
    }
   ],
   "source": [
    "# creation\n",
    "\n",
    "my_list = [ # square bracket\n",
    "    \"a\", # index 0\n",
    "    \"b\", # index 1\n",
    "    \"c\", # index 2\n",
    "]\n",
    "\n",
    "my_dict = { # curly bracket\n",
    "    \"a\": \"val1\",\n",
    "    \"b\": \"val2\",\n",
    "    \"c\": \"val3\",\n",
    "    \"a\": \"another\", # a keys are unique\n",
    "}\n",
    "\n",
    "print(\"=== creation\")\n",
    "print(my_list)\n",
    "print(my_dict)\n",
    "\n",
    "# adding an element\n",
    "my_list.append(\"d\")\n",
    "my_dict[\"d\"] = \"thing\"\n",
    "\n",
    "print(\"=== adding\")\n",
    "print(my_list)\n",
    "print(my_dict)\n",
    "\n",
    "# deleting an element\n",
    "\n",
    "del my_list[0]\n",
    "# my_list.remove(\"b\")\n",
    "del my_dict[\"a\"]\n",
    "\n",
    "print(\"=== deleting\")\n",
    "print(my_list)\n",
    "print(my_dict)\n",
    "\n",
    "# accessing an element\n",
    "\n",
    "print(\"=== accessing\")\n",
    "print(my_list[0])\n",
    "print(my_dict[\"b\"])\n",
    "\n",
    "# iterating\n",
    "\n",
    "print(\"=== iterating list\")\n",
    "for n in my_list:\n",
    "    print(n)\n",
    "\n",
    "print(\"=== iterating dictionary keys\")\n",
    "for k in my_dict:\n",
    "    print(k)\n",
    "\n",
    "print(\"=== iterating dictionary keys and values\")\n",
    "for k, v in my_dict.items():\n",
    "    print(\"{} -> {}\".format(k, v))\n",
    "\n",
    "print(\"=== iterating dictionary keys and values - sorted\")\n",
    "for k, v in sorted(my_dict.items()):\n",
    "    print(\"{} -> {}\".format(k, v))"
   ]
  },
  {
   "cell_type": "markdown",
   "metadata": {},
   "source": [
    "### When to pick what\n",
    "\n",
    "#### List\n",
    "\n",
    "- Order matters\n",
    "\n",
    "#### Dictionary\n",
    "\n",
    "- Mapping from one value to another\n",
    "- Access values by something other than an int\n",
    "- Replace multiple ifs"
   ]
  },
  {
   "cell_type": "markdown",
   "metadata": {},
   "source": [
    "### Corner cases\n",
    "\n",
    "Keys and values of a dictionary aren't tied to predefined types."
   ]
  },
  {
   "cell_type": "code",
   "execution_count": 11,
   "metadata": {
    "collapsed": false
   },
   "outputs": [
    {
     "data": {
      "text/plain": [
       "{1: 'some string', 9.80665: 'g', 'pi': 3.141592}"
      ]
     },
     "execution_count": 11,
     "metadata": {},
     "output_type": "execute_result"
    }
   ],
   "source": [
    "things = {}\n",
    "things[1] = \"some string\"\n",
    "things[\"pi\"] = 3.141592\n",
    "things[9.80665] = \"g\"\n",
    "things"
   ]
  },
  {
   "cell_type": "markdown",
   "metadata": {},
   "source": [
    "Whether this makes sense is doubtable, so consider organizing your data in another way since this might confuse readers."
   ]
  },
  {
   "cell_type": "markdown",
   "metadata": {},
   "source": [
    "## Sets\n",
    "\n",
    "Unordered collection of unique elements"
   ]
  },
  {
   "cell_type": "code",
   "execution_count": 20,
   "metadata": {
    "collapsed": false
   },
   "outputs": [
    {
     "name": "stdout",
     "output_type": "stream",
     "text": [
      "=== creation\n",
      "{'a', 'b'}\n",
      "=== adding\n",
      "{'c', 'a', 'b'}\n",
      "=== deleting\n",
      "{'c', 'b'}\n",
      "=== accessing\n",
      "'set' object does not support indexing\n",
      "=== iterating\n",
      "c\n",
      "b\n"
     ]
    }
   ],
   "source": [
    "# creation\n",
    "\n",
    "my_set = {\"a\", \"a\", \"b\"} # curly bracket\n",
    "\n",
    "print(\"=== creation\")\n",
    "print(my_set)\n",
    "\n",
    "# adding an element\n",
    "my_set.add(\"c\")\n",
    "\n",
    "print(\"=== adding\")\n",
    "print(my_set)\n",
    "\n",
    "# deleting an element\n",
    "\n",
    "my_set.remove(\"a\")\n",
    "\n",
    "print(\"=== deleting\")\n",
    "print(my_set)\n",
    "\n",
    "# accessing an element\n",
    "\n",
    "print(\"=== accessing\")\n",
    "print(\"'set' object does not support indexing\")\n",
    "\n",
    "# iterating\n",
    "print(\"=== iterating\")\n",
    "for n in my_set:\n",
    "    print(n)"
   ]
  },
  {
   "cell_type": "markdown",
   "metadata": {},
   "source": [
    "## Parameter checking\n",
    "\n",
    "Usually done with ```ValueError```.\n",
    "\n",
    "See https://docs.python.org/3/library/stdtypes.html#sequence-types-list-tuple-range\n",
    "\n",
    "Special return values or thrown Exceptions should be documented."
   ]
  },
  {
   "cell_type": "code",
   "execution_count": 3,
   "metadata": {
    "collapsed": false
   },
   "outputs": [
    {
     "name": "stdout",
     "output_type": "stream",
     "text": [
      "Please enter another number\n"
     ]
    },
    {
     "ename": "ValueError",
     "evalue": "division by zero",
     "output_type": "error",
     "traceback": [
      "\u001b[1;31m---------------------------------------------------------------------------\u001b[0m",
      "\u001b[1;31mValueError\u001b[0m                                Traceback (most recent call last)",
      "\u001b[1;32m<ipython-input-3-0cc610006bce>\u001b[0m in \u001b[0;36m<module>\u001b[1;34m()\u001b[0m\n\u001b[0;32m     14\u001b[0m     \u001b[0mprint\u001b[0m\u001b[1;33m(\u001b[0m\u001b[1;34m\"Please enter another number\"\u001b[0m\u001b[1;33m)\u001b[0m\u001b[1;33m\u001b[0m\u001b[0m\n\u001b[0;32m     15\u001b[0m \u001b[1;33m\u001b[0m\u001b[0m\n\u001b[1;32m---> 16\u001b[1;33m \u001b[0mdivide\u001b[0m\u001b[1;33m(\u001b[0m\u001b[1;36m1\u001b[0m\u001b[1;33m,\u001b[0m \u001b[1;36m0\u001b[0m\u001b[1;33m)\u001b[0m\u001b[1;33m\u001b[0m\u001b[0m\n\u001b[0m",
      "\u001b[1;32m<ipython-input-3-0cc610006bce>\u001b[0m in \u001b[0;36mdivide\u001b[1;34m(a, b)\u001b[0m\n\u001b[0;32m      6\u001b[0m \u001b[1;33m\u001b[0m\u001b[0m\n\u001b[0;32m      7\u001b[0m     \u001b[1;32mif\u001b[0m \u001b[0mb\u001b[0m \u001b[1;33m==\u001b[0m \u001b[1;36m0\u001b[0m\u001b[1;33m:\u001b[0m\u001b[1;33m\u001b[0m\u001b[0m\n\u001b[1;32m----> 8\u001b[1;33m         \u001b[1;32mraise\u001b[0m \u001b[0mValueError\u001b[0m\u001b[1;33m(\u001b[0m\u001b[1;34m\"division by zero\"\u001b[0m\u001b[1;33m)\u001b[0m\u001b[1;33m\u001b[0m\u001b[0m\n\u001b[0m\u001b[0;32m      9\u001b[0m     \u001b[1;32mreturn\u001b[0m \u001b[0ma\u001b[0m\u001b[1;33m/\u001b[0m\u001b[0mb\u001b[0m\u001b[1;33m\u001b[0m\u001b[0m\n\u001b[0;32m     10\u001b[0m \u001b[1;33m\u001b[0m\u001b[0m\n",
      "\u001b[1;31mValueError\u001b[0m: division by zero"
     ]
    }
   ],
   "source": [
    "def divide(a, b):\n",
    "    \"\"\"Divides two numbers.\n",
    "    \n",
    "    If b is zero ValueError is thrown.\n",
    "    \"\"\"\n",
    "    \n",
    "    if b == 0:\n",
    "        raise ValueError(\"division by zero\")\n",
    "    return a/b\n",
    "\n",
    "try:\n",
    "    divide(1, 0)\n",
    "except ValueError:\n",
    "    print(\"Please enter another number\")\n",
    "\n",
    "divide(1, 0)"
   ]
  },
  {
   "cell_type": "markdown",
   "metadata": {},
   "source": [
    "Can also be done with special return values (e.g. index() function in other programming values.\n",
    "\n",
    "E.g. index() in other languages returns the index of the found element. If the element could not be found it returns -1 which otherwise would not be a valid value."
   ]
  },
  {
   "cell_type": "code",
   "execution_count": 1,
   "metadata": {
    "collapsed": false
   },
   "outputs": [
    {
     "name": "stdout",
     "output_type": "stream",
     "text": [
      "-1\n",
      "3\n"
     ]
    }
   ],
   "source": [
    "def old_index(stack, needle):\n",
    "    \"\"\"Returns the index of needle in stack. If needle could not be found it returns -1.\"\"\"\n",
    "    \n",
    "    for i in range(len(stack)):\n",
    "        if stack[i] == needle:\n",
    "            return i\n",
    "    return -1\n",
    "\n",
    "print(old_index(\"asdf\", \"x\"))\n",
    "print(old_index(\"asdf\", \"f\"))"
   ]
  },
  {
   "cell_type": "markdown",
   "metadata": {},
   "source": [
    "## Student Task\n",
    "\n",
    "Write a function ```check_occurences(words, combination)``` which counts the occurence of a combination in a list of words."
   ]
  },
  {
   "cell_type": "code",
   "execution_count": 4,
   "metadata": {
    "collapsed": false
   },
   "outputs": [
    {
     "name": "stdout",
     "output_type": "stream",
     "text": [
      "4\n",
      "4\n"
     ]
    }
   ],
   "source": [
    "def check_occurences(words, combination):\n",
    "    result = 0\n",
    "    for w in words:\n",
    "        for i in range(len(w) - len(combination) + 1):\n",
    "            if w[i:i + len(combination)] == combination:\n",
    "                result += 1\n",
    "    return result\n",
    "\n",
    "print(check_occurences([\"Hans\", \"Mans\", \"ansans\"], \"ans\"))\n",
    "print(check_occurences([\"i\"*5], \"ii\"))"
   ]
  },
  {
   "cell_type": "code",
   "execution_count": null,
   "metadata": {
    "collapsed": true
   },
   "outputs": [],
   "source": []
  }
 ],
 "metadata": {
  "kernelspec": {
   "display_name": "Python 3",
   "language": "python",
   "name": "python3"
  },
  "language_info": {
   "codemirror_mode": {
    "name": "ipython",
    "version": 3
   },
   "file_extension": ".py",
   "mimetype": "text/x-python",
   "name": "python",
   "nbconvert_exporter": "python",
   "pygments_lexer": "ipython3",
   "version": "3.5.4"
  }
 },
 "nbformat": 4,
 "nbformat_minor": 0
}
