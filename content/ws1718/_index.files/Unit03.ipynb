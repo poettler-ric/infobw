{
 "cells": [
  {
   "cell_type": "markdown",
   "metadata": {},
   "source": [
    "# Unit 03 - Control flow\n",
    "\n",
    "## if / else\n",
    "Kewords while programming: \"wenn/falls\"\n",
    "\n",
    "General form:"
   ]
  },
  {
   "cell_type": "code",
   "execution_count": 2,
   "metadata": {
    "collapsed": false
   },
   "outputs": [],
   "source": [
    "condition = True\n",
    "if condition:\n",
    "    pass\n",
    "elif condition:\n",
    "    pass\n",
    "else:\n",
    "    pass"
   ]
  },
  {
   "cell_type": "markdown",
   "metadata": {},
   "source": [
    "Example:"
   ]
  },
  {
   "cell_type": "code",
   "execution_count": 6,
   "metadata": {
    "collapsed": false
   },
   "outputs": [
    {
     "name": "stdout",
     "output_type": "stream",
     "text": [
      "first number: 8\n",
      "operator: /\n",
      "second number: 0\n",
      "no division by zero!\n"
     ]
    }
   ],
   "source": [
    "n1 = float(input(\"first number: \"))\n",
    "operator = input(\"operator: \")\n",
    "n2 = float(input(\"second number: \"))\n",
    "\n",
    "if operator == '/' and n2 == 0.0:\n",
    "    print(\"no division by zero!\")\n",
    "else:\n",
    "    if operator == '+':\n",
    "        print(\"{} {} {} = {}\".format(n1, operator, n2, n1 + n2))\n",
    "    elif operator == '-':\n",
    "        print(\"{} {} {} = {}\".format(n1, operator, n2, n1 - n2))\n",
    "    elif operator == '*':\n",
    "        print(\"{} {} {} = {}\".format(n1, operator, n2, n1 * n2))\n",
    "    elif operator == '/':\n",
    "        print(\"{} {} {} = {}\".format(n1, operator, n2, n1 / n2))\n",
    "    else:\n",
    "        print(\"not implemented!\")"
   ]
  },
  {
   "cell_type": "markdown",
   "metadata": {},
   "source": [
    "## while\n",
    "\n",
    "Keywords while programming: \"solange\"\n",
    "\n",
    "general form:"
   ]
  },
  {
   "cell_type": "code",
   "execution_count": null,
   "metadata": {
    "collapsed": true
   },
   "outputs": [],
   "source": [
    "while condition:\n",
    "    pass"
   ]
  },
  {
   "cell_type": "markdown",
   "metadata": {},
   "source": [
    "Example:"
   ]
  },
  {
   "cell_type": "code",
   "execution_count": 7,
   "metadata": {
    "collapsed": false
   },
   "outputs": [
    {
     "name": "stdout",
     "output_type": "stream",
     "text": [
      "first number: 8\n",
      "operator: /\n",
      "second number: 0\n",
      "no division by zero!\n",
      "again? y\n",
      "first number: 9\n",
      "operator: +9\n",
      "second number: 3\n",
      "not implemented!\n",
      "again? 0\n"
     ]
    }
   ],
   "source": [
    "answer = 'y'\n",
    "while answer == 'y':\n",
    "    n1 = float(input(\"first number: \"))\n",
    "    operator = input(\"operator: \")\n",
    "    n2 = float(input(\"second number: \"))\n",
    "\n",
    "    if operator == '/' and n2 == 0.0:\n",
    "        print(\"no division by zero!\")\n",
    "    else:\n",
    "        if operator == '+':\n",
    "            print(\"{} {} {} = {}\".format(n1, operator, n2, n1 + n2))\n",
    "        elif operator == '-':\n",
    "            print(\"{} {} {} = {}\".format(n1, operator, n2, n1 - n2))\n",
    "        elif operator == '*':\n",
    "            print(\"{} {} {} = {}\".format(n1, operator, n2, n1 * n2))\n",
    "        elif operator == '/':\n",
    "            print(\"{} {} {} = {}\".format(n1, operator, n2, n1 / n2))\n",
    "        else:\n",
    "            print(\"not implemented!\")\n",
    "    answer = input(\"again? \").lower()"
   ]
  },
  {
   "cell_type": "markdown",
   "metadata": {},
   "source": [
    "### Controlling while"
   ]
  },
  {
   "cell_type": "markdown",
   "metadata": {},
   "source": [
    "#### continue\n",
    "continue starts with the next iteration of the innermost loop"
   ]
  },
  {
   "cell_type": "code",
   "execution_count": 8,
   "metadata": {
    "collapsed": false
   },
   "outputs": [
    {
     "name": "stdout",
     "output_type": "stream",
     "text": [
      "first number: 8\n",
      "operator: +\n",
      "second number: 9\n",
      "8.0 + 9.0 = 17.0\n",
      "again? y\n",
      "first number: 9\n",
      "operator: /\n",
      "second number: 0\n",
      "no division by zero!\n",
      "first number: 0\n",
      "operator: 0\n",
      "second number: 0\n",
      "not implemented!\n",
      "again? 0\n"
     ]
    }
   ],
   "source": [
    "answer = 'y'\n",
    "while answer == 'y':\n",
    "    n1 = float(input(\"first number: \"))\n",
    "    operator = input(\"operator: \")\n",
    "    n2 = float(input(\"second number: \"))\n",
    "\n",
    "    if operator == '/' and n2 == 0.0:\n",
    "        print(\"no division by zero!\")\n",
    "        continue\n",
    "        \n",
    "    if operator == '+':\n",
    "        print(\"{} {} {} = {}\".format(n1, operator, n2, n1 + n2))\n",
    "    elif operator == '-':\n",
    "        print(\"{} {} {} = {}\".format(n1, operator, n2, n1 - n2))\n",
    "    elif operator == '*':\n",
    "        print(\"{} {} {} = {}\".format(n1, operator, n2, n1 * n2))\n",
    "    elif operator == '/':\n",
    "        print(\"{} {} {} = {}\".format(n1, operator, n2, n1 / n2))\n",
    "    else:\n",
    "        print(\"not implemented!\")\n",
    "    answer = input(\"again? \").lower()"
   ]
  },
  {
   "cell_type": "markdown",
   "metadata": {},
   "source": [
    "#### break\n",
    "break stops the execution of the innermost loop altogether"
   ]
  },
  {
   "cell_type": "code",
   "execution_count": 10,
   "metadata": {
    "collapsed": false
   },
   "outputs": [
    {
     "name": "stdout",
     "output_type": "stream",
     "text": [
      "first number: 0\n",
      "operator: 0\n",
      "second number: 0\n",
      "not implemented!\n",
      "again? 0\n"
     ]
    }
   ],
   "source": [
    "answer = 'y'\n",
    "while answer == 'y':\n",
    "    n1 = float(input(\"first number: \"))\n",
    "    operator = input(\"operator: \")\n",
    "    n2 = float(input(\"second number: \"))\n",
    "\n",
    "    if operator == '/' and n2 == 0.0:\n",
    "        print(\"no division by zero!\")\n",
    "        break\n",
    "        \n",
    "    if operator == '+':\n",
    "        print(\"{} {} {} = {}\".format(n1, operator, n2, n1 + n2))\n",
    "    elif operator == '-':\n",
    "        print(\"{} {} {} = {}\".format(n1, operator, n2, n1 - n2))\n",
    "    elif operator == '*':\n",
    "        print(\"{} {} {} = {}\".format(n1, operator, n2, n1 * n2))\n",
    "    elif operator == '/':\n",
    "        print(\"{} {} {} = {}\".format(n1, operator, n2, n1 / n2))\n",
    "    else:\n",
    "        print(\"not implemented!\")\n",
    "    answer = input(\"again? \").lower()\n",
    "pass"
   ]
  },
  {
   "cell_type": "markdown",
   "metadata": {},
   "source": [
    "## Functions"
   ]
  },
  {
   "cell_type": "markdown",
   "metadata": {},
   "source": [
    "General form:"
   ]
  },
  {
   "cell_type": "code",
   "execution_count": 13,
   "metadata": {
    "collapsed": true
   },
   "outputs": [],
   "source": [
    "def my_func(arg1, arg2):\n",
    "    return None\n",
    "    pass"
   ]
  },
  {
   "cell_type": "markdown",
   "metadata": {},
   "source": [
    "Example:"
   ]
  },
  {
   "cell_type": "code",
   "execution_count": 26,
   "metadata": {
    "collapsed": false
   },
   "outputs": [
    {
     "name": "stdout",
     "output_type": "stream",
     "text": [
      "bigger: 8\n",
      "0 0\n",
      "0 1\n",
      "0 2\n",
      "0 3\n",
      "0 4\n",
      "0 5\n",
      "volume is: 6\n"
     ]
    }
   ],
   "source": [
    "def my_max(a, b):\n",
    "    if a > b:\n",
    "        return a\n",
    "    else:\n",
    "        return b\n",
    "\n",
    "def volume(width, depth, height):\n",
    "    result = width * depth * height\n",
    "    return result\n",
    "\n",
    "def break_while(reached):\n",
    "    i, j = 0, 0\n",
    "    while True:\n",
    "        while True:\n",
    "            print(\"{} {}\".format(i, j))\n",
    "            if i + j == reached:\n",
    "                return\n",
    "            j += 1\n",
    "        i += 1\n",
    "\n",
    "        \n",
    "n1, n2 = 5, 8\n",
    "n1 = 5\n",
    "n2 = 8\n",
    "print(\"bigger: {}\".format(my_max(n1, n2)))\n",
    "break_while(5)\n",
    "print(\"volume is: {}\".format(volume(1, 2, 3)))"
   ]
  },
  {
   "cell_type": "markdown",
   "metadata": {},
   "source": [
    "### Default arguments"
   ]
  },
  {
   "cell_type": "code",
   "execution_count": 10,
   "metadata": {
    "collapsed": false
   },
   "outputs": [
    {
     "name": "stdout",
     "output_type": "stream",
     "text": [
      "My name is Richi Poettler\n",
      "My name is Richi Peter\n",
      "My name is Hans Poettler\n",
      "My name is Hans Peter\n"
     ]
    }
   ],
   "source": [
    "def another_func(a=\"Hans\", b=\"Peter\"):\n",
    "    print(\"My name is {} {}\".format(a, b))\n",
    "    \n",
    "another_func(\"Richi\", \"Poettler\")\n",
    "another_func(\"Richi\")\n",
    "another_func(b=\"Poettler\")\n",
    "another_func()\n"
   ]
  },
  {
   "cell_type": "markdown",
   "metadata": {},
   "source": [
    "## Example\n",
    "Write a function printing all even numbers up to a given one:"
   ]
  },
  {
   "cell_type": "code",
   "execution_count": 31,
   "metadata": {
    "collapsed": false
   },
   "outputs": [
    {
     "name": "stdout",
     "output_type": "stream",
     "text": [
      "0\n",
      "2\n",
      "4\n",
      "0\n",
      "2\n",
      "4\n",
      "6\n",
      "8\n"
     ]
    }
   ],
   "source": [
    "def print_even(reached):\n",
    "    i = 0\n",
    "    while i < reached:\n",
    "        if i % 2 == 0:\n",
    "            print(i)\n",
    "        i += 1\n",
    "        \n",
    "def print_even_2(reached):\n",
    "    for i in range(reached):\n",
    "        if i % 2 == 0:\n",
    "            print(i)\n",
    "\n",
    "print_even(5)\n",
    "print_even(10)"
   ]
  },
  {
   "cell_type": "markdown",
   "metadata": {},
   "source": [
    "Documentation for the range function:\n",
    "    \n",
    "https://docs.python.org/3/library/functions.html#func-range"
   ]
  },
  {
   "cell_type": "markdown",
   "metadata": {},
   "source": [
    "## Student Example\n",
    "\n",
    "Write a function the factorial of a number:\n",
    "- 0! = 1\n",
    "- 1! = 1\n",
    "- 2! = 1 * 2\n",
    "- 3! = 1 \\* 3 \\* 2\n",
    "- 5! = 1 \\* 5 \\* 4 \\* 3 \\* 2"
   ]
  },
  {
   "cell_type": "code",
   "execution_count": null,
   "metadata": {
    "collapsed": true
   },
   "outputs": [],
   "source": []
  },
  {
   "cell_type": "markdown",
   "metadata": {},
   "source": [
    "## Questions"
   ]
  },
  {
   "cell_type": "markdown",
   "metadata": {},
   "source": [
    "Check whether a element is in a list:\n",
    "    \n",
    "https://docs.python.org/3/library/stdtypes.html#common-sequence-operations"
   ]
  },
  {
   "cell_type": "code",
   "execution_count": 36,
   "metadata": {
    "collapsed": false
   },
   "outputs": [
    {
     "name": "stdout",
     "output_type": "stream",
     "text": [
      "unit: asdf\n",
      "unit: sm\n"
     ]
    }
   ],
   "source": [
    "units = [\"sm\", \"lm\"]\n",
    "answer = input('unit: ')\n",
    "while answer not in units:\n",
    "    answer = input('unit: ')\n"
   ]
  },
  {
   "cell_type": "markdown",
   "metadata": {},
   "source": [
    "Join values with a string in python:\n",
    "    \n",
    "https://docs.python.org/3/library/stdtypes.html#str.join"
   ]
  },
  {
   "cell_type": "code",
   "execution_count": 6,
   "metadata": {
    "collapsed": false
   },
   "outputs": [
    {
     "name": "stdout",
     "output_type": "stream",
     "text": [
      "['a', 'b', 'c']\n",
      "a-b-c\n",
      "abc\n"
     ]
    }
   ],
   "source": [
    "new_letter_list = [\"a\", \"b\", \"c\"]\n",
    "print(new_letter_list)\n",
    "print(\"-\".join(new_letter_list))\n",
    "print(\"\".join(new_letter_list))\n"
   ]
  },
  {
   "cell_type": "markdown",
   "metadata": {},
   "source": [
    "Printing without a newline at the end\n",
    "\n",
    "https://docs.python.org/3/library/functions.html#print"
   ]
  },
  {
   "cell_type": "code",
   "execution_count": 12,
   "metadata": {
    "collapsed": false
   },
   "outputs": [
    {
     "name": "stdout",
     "output_type": "stream",
     "text": [
      "a\n",
      "b\n",
      "c\n",
      "abc"
     ]
    }
   ],
   "source": [
    "for c in new_letter_list:\n",
    "    print(c)\n",
    "for c in new_letter_list:\n",
    "    print(c, end=\"\")"
   ]
  },
  {
   "cell_type": "code",
   "execution_count": null,
   "metadata": {
    "collapsed": true
   },
   "outputs": [],
   "source": []
  }
 ],
 "metadata": {
  "kernelspec": {
   "display_name": "Python 3",
   "language": "python",
   "name": "python3"
  },
  "language_info": {
   "codemirror_mode": {
    "name": "ipython",
    "version": 3
   },
   "file_extension": ".py",
   "mimetype": "text/x-python",
   "name": "python",
   "nbconvert_exporter": "python",
   "pygments_lexer": "ipython3",
   "version": "3.5.4"
  }
 },
 "nbformat": 4,
 "nbformat_minor": 0
}
