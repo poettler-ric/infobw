{
 "cells": [
  {
   "cell_type": "markdown",
   "metadata": {},
   "source": [
    "# Recursion / Tutorium"
   ]
  },
  {
   "cell_type": "markdown",
   "metadata": {},
   "source": [
    "## Tutor  task\n",
    "\n",
    "Complete student task from unit 5.\n",
    "\n",
    "Implement a calculator:\n",
    "\n",
    "- Arguments (float) are taken as program arguments\n",
    "- Check input\n",
    "- Each Operator(+-*/) should have it's own function\n",
    "\n",
    "Additionally:\n",
    "\n",
    "- Replace the if statement with a dictionary\n",
    "- Implement a -f flag to read arguments from a file\n",
    "- Implement modulo (%)(only works for itegers)\n",
    "- Implement factorial (!)(recursive)\n"
   ]
  },
  {
   "cell_type": "code",
   "execution_count": 1,
   "metadata": {
    "collapsed": false
   },
   "outputs": [
    {
     "name": "stdout",
     "output_type": "stream",
     "text": [
      "need float\n"
     ]
    },
    {
     "ename": "SystemExit",
     "evalue": "",
     "output_type": "error",
     "traceback": [
      "An exception has occurred, use %tb to see the full traceback.\n",
      "\u001b[1;31mSystemExit\u001b[0m\n"
     ]
    },
    {
     "name": "stderr",
     "output_type": "stream",
     "text": [
      "To exit: use 'exit', 'quit', or Ctrl-D.\n"
     ]
    }
   ],
   "source": [
    "from sys import argv, exit\n",
    "\n",
    "def is_float(a):\n",
    "    \"\"\"Checks whether a string is a float.\"\"\"\n",
    "    try:\n",
    "        float(a)\n",
    "        return True\n",
    "    except ValueError:\n",
    "        return False\n",
    "\n",
    "def multiply(a, b):\n",
    "    return a * b\n",
    "\n",
    "def divide(a, b):\n",
    "    if b == 0:\n",
    "        print(\"division by zero\")\n",
    "        exit()\n",
    "    return a / b\n",
    "\n",
    "def plus(a, b):\n",
    "    return a + b\n",
    "\n",
    "def minus(a, b):\n",
    "    return a - b\n",
    "\n",
    "def modulo(a, b):\n",
    "    if not a.is_integer() or not b.is_integer():\n",
    "        print(\"need integer for modulo\")\n",
    "        exit()\n",
    "    return a % b\n",
    "\n",
    "def factorial(a):\n",
    "    if not a.is_integer():\n",
    "        print(\"need integer for factorial\")\n",
    "        exit()\n",
    "    if a == 0 or a == 1:\n",
    "        return 1\n",
    "    return a * factorial(a - 1)\n",
    "\n",
    "def handle_args(s):\n",
    "    if len(s) == 2:\n",
    "        # checking parameters\n",
    "        if not is_float(s[0]):\n",
    "            print(\"need float\")\n",
    "            exit()\n",
    "\n",
    "        # cast parameters to needed types\n",
    "        n1 = float(s[0])\n",
    "        op = s[1]\n",
    "\n",
    "        # execute operation\n",
    "        if op not in operations:\n",
    "            print(\"not implemented\")\n",
    "        else:\n",
    "            print(operations[op](n1))\n",
    "    else:\n",
    "        # checking parameters\n",
    "        if not is_float(s[0]) or not is_float(s[2]):\n",
    "            print(\"need float\")\n",
    "            exit()\n",
    "\n",
    "        # cast parameters to needed types\n",
    "        n1 = float(s[0])\n",
    "        op = s[1]\n",
    "        n2 = float(s[2])\n",
    "\n",
    "        # execute operation\n",
    "        if op not in operations:\n",
    "            print(\"not implemented\")\n",
    "        else:\n",
    "            print(operations[op](n1, n2))\n",
    "\n",
    "operations = {\n",
    "    '+': plus,\n",
    "    '-': minus,\n",
    "    '*': multiply,\n",
    "    '/': divide,\n",
    "    '%': modulo,\n",
    "    '!': factorial,\n",
    "}\n",
    "\n",
    "if __name__ == '__main__':\n",
    "    if '-f' in argv:\n",
    "        with open(argv[2]) as f:\n",
    "            for l in f:\n",
    "                handle_args(l.split())\n",
    "    else:\n",
    "        handle_args(argv[1:])\n"
   ]
  },
  {
   "cell_type": "markdown",
   "metadata": {},
   "source": [
    "## Student Task #1\n",
    "\n",
    "Write a funtion determining whether a given number is a prime.\n",
    "\n",
    "* The function takes only one argument (integer)\n",
    "* Prime only works for integers\n",
    "* Return ```True``` or ```False```"
   ]
  },
  {
   "cell_type": "code",
   "execution_count": 5,
   "metadata": {
    "collapsed": false
   },
   "outputs": [
    {
     "name": "stdout",
     "output_type": "stream",
     "text": [
      "0: False\n",
      "1: False\n",
      "2: True\n",
      "3: True\n",
      "4: False\n",
      "5: True\n",
      "6: False\n",
      "7: True\n",
      "8: False\n",
      "9: False\n",
      "10: False\n",
      "11: True\n",
      "12: False\n",
      "13: True\n",
      "14: False\n",
      "15: False\n",
      "16: False\n",
      "17: True\n",
      "18: False\n",
      "19: True\n"
     ]
    }
   ],
   "source": [
    "def is_prime(n):\n",
    "    if n == 0 or n == 1:\n",
    "        return False\n",
    "    for i in range(2, n):\n",
    "        if n % i == 0:\n",
    "            return False\n",
    "    return True\n",
    "\n",
    "for i in range(20):\n",
    "    print(\"{}: {}\".format(i, is_prime(i)))\n"
   ]
  },
  {
   "cell_type": "markdown",
   "metadata": {},
   "source": [
    "## Student Task #2\n",
    "\n",
    "Implement a function converting a list of strings in to a phonebook.\n",
    "\n",
    "* The supplied list has the following format: [\"name1\", \"123\", \"name2\", \"456\", \"name3\", \"789\"]\n",
    "    * E.g ```123``` is the phonenumber of ```name1```\n",
    "* The returned phonebook should be a dictionary\n",
    "    * Use the names as keys\n",
    "    * Use the numbers as values\n",
    "* Before storing a number in the phonebook check whether it's already stored.\n",
    "    * Print an error message and return ```None```"
   ]
  },
  {
   "cell_type": "code",
   "execution_count": 15,
   "metadata": {
    "collapsed": false
   },
   "outputs": [
    {
     "name": "stdout",
     "output_type": "stream",
     "text": [
      "['name1', '123', 'name2', '456', 'name3', '789']\n",
      "{'name3': '789', 'name2': '456', 'name1': '123'}\n"
     ]
    }
   ],
   "source": [
    "def convert_phonebook(pairs):\n",
    "    if len(pairs) % 2 != 0:\n",
    "        raise ValueError(\"Need an even number of elements\")\n",
    "        \n",
    "    book = {}\n",
    "    for i in range(0, len(pairs), 2):\n",
    "        name, number= pairs[i], pairs[i+1]\n",
    "        \n",
    "        if name in book:\n",
    "            return None\n",
    "        \n",
    "        book[name] = number\n",
    "    return book\n",
    "\n",
    "l = [\"name1\", \"123\", \"name2\", \"456\", \"name3\", \"789\"]\n",
    "#l = [\"name1\", \"123\", \"name2\", \"456\", \"name3\", \"789\", \"name2\", \"258\"]\n",
    "#l = [\"name1\", \"123\", \"name2\", \"456\", \"name3\"]\n",
    "print(l)\n",
    "print(convert_phonebook(l))"
   ]
  },
  {
   "cell_type": "code",
   "execution_count": null,
   "metadata": {
    "collapsed": true
   },
   "outputs": [],
   "source": []
  }
 ],
 "metadata": {
  "kernelspec": {
   "display_name": "Python 3",
   "language": "python",
   "name": "python3"
  },
  "language_info": {
   "codemirror_mode": {
    "name": "ipython",
    "version": 3
   },
   "file_extension": ".py",
   "mimetype": "text/x-python",
   "name": "python",
   "nbconvert_exporter": "python",
   "pygments_lexer": "ipython3",
   "version": "3.5.4"
  }
 },
 "nbformat": 4,
 "nbformat_minor": 0
}
