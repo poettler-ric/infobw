{
 "cells": [
  {
   "cell_type": "markdown",
   "metadata": {},
   "source": [
    "# Recursion"
   ]
  },
  {
   "cell_type": "markdown",
   "metadata": {},
   "source": [
    "## Functions as values"
   ]
  },
  {
   "cell_type": "code",
   "execution_count": 1,
   "metadata": {
    "collapsed": false
   },
   "outputs": [
    {
     "name": "stdout",
     "output_type": "stream",
     "text": [
      "Hello, my name is test\n",
      "Hello, my name is asdf\n"
     ]
    }
   ],
   "source": [
    "def print_name(name):\n",
    "    print(\"Hello, my name is {}\".format(name))\n",
    "    \n",
    "print_name(\"test\")\n",
    "f = print_name\n",
    "f(\"asdf\")"
   ]
  },
  {
   "cell_type": "markdown",
   "metadata": {},
   "source": [
    "## Recursion\n",
    "\n",
    "A function calling itself.\n",
    "\n",
    "Determine whether a person is an ancestor of another:"
   ]
  },
  {
   "cell_type": "code",
   "execution_count": 13,
   "metadata": {
    "collapsed": false
   },
   "outputs": [
    {
     "name": "stdout",
     "output_type": "stream",
     "text": [
      "True\n",
      "True\n",
      "True\n",
      "True\n"
     ]
    }
   ],
   "source": [
    "tree = {\n",
    "    \"Peter\": [\"Melanie\", \"Anja\"],\n",
    "    \"Melanie\": [\"Max\", \"Michael\"],\n",
    "    \"Michael\": [\"Bianca\", \"Claudia\"],\n",
    "}\n",
    "\n",
    "def is_ancestor(parent, child):\n",
    "    result = False\n",
    "    \n",
    "    if parent not in tree:\n",
    "        return False\n",
    "    \n",
    "    if child in tree[parent]:\n",
    "        return True\n",
    "    \n",
    "    for c in tree[parent]:\n",
    "        result = result or is_ancestor(c, child)\n",
    "    return result\n",
    "\n",
    "print(is_ancestor(\"Peter\", \"Anja\"))\n",
    "print(is_ancestor(\"Melanie\", \"Michael\"))\n",
    "print(is_ancestor(\"Peter\", \"Michael\"))\n",
    "print(is_ancestor(\"Peter\", \"Claudia\"))"
   ]
  },
  {
   "cell_type": "markdown",
   "metadata": {},
   "source": [
    "## Student  task\n",
    "\n",
    "Implement a calculator:\n",
    "\n",
    "- Arguments (float) are taken as program arguments\n",
    "- Check input\n",
    "- Each Operator(+-*/) should have it's own function\n",
    "\n",
    "Additionally:\n",
    "\n",
    "- Replace the if statement with a dictionary\n",
    "- Implement a -f flag to read arguments from a file\n",
    "- Implement modulo (%)(only works for itegers)\n",
    "- Implement factorial (!)(recursive)\n"
   ]
  },
  {
   "cell_type": "code",
   "execution_count": 1,
   "metadata": {
    "collapsed": false
   },
   "outputs": [
    {
     "name": "stdout",
     "output_type": "stream",
     "text": [
      "need float\n"
     ]
    },
    {
     "ename": "SystemExit",
     "evalue": "",
     "output_type": "error",
     "traceback": [
      "An exception has occurred, use %tb to see the full traceback.\n",
      "\u001b[1;31mSystemExit\u001b[0m\n"
     ]
    },
    {
     "name": "stderr",
     "output_type": "stream",
     "text": [
      "To exit: use 'exit', 'quit', or Ctrl-D.\n"
     ]
    }
   ],
   "source": [
    "from sys import argv, exit\n",
    "\n",
    "def is_float(a):\n",
    "    \"\"\"Checks whether a string is a float.\"\"\"\n",
    "    try:\n",
    "        float(a)\n",
    "        return True\n",
    "    except ValueError:\n",
    "        return False\n",
    "    \n",
    "def is_int(f):\n",
    "    \"\"\"Checks whether a float is an integer.\"\"\"\n",
    "    return f - int(f) == 0\n",
    "\n",
    "\n",
    "def plus(a, b):\n",
    "    return a + b\n",
    "\n",
    "def minus(a, b):\n",
    "    return a - b\n",
    "\n",
    "def handle_args(s):\n",
    "    # checking parameters\n",
    "    if not is_float(s[0]) or not is_float(s[2]):\n",
    "        print(\"need float\")\n",
    "        exit()\n",
    "    \n",
    "    # cast parameters to needed types\n",
    "    n1 = float(s[0])\n",
    "    op = s[1]\n",
    "    n2 = float(s[2])\n",
    "    \n",
    "    # execute operation\n",
    "    if op not in operations:\n",
    "        print(\"not implemented\")\n",
    "    else:\n",
    "        print(operations[op](n1, n2))\n",
    "\n",
    "operations = {\n",
    "    '+': plus,\n",
    "    '-': minus,\n",
    "}\n",
    "\n",
    "if __name__ == '__main__':\n",
    "    if '-f' in argv:\n",
    "        with open(argv[2]) as f:\n",
    "            for l in f:\n",
    "                handle_args(l.split())\n",
    "    else:\n",
    "        handle_args(argv[1:])"
   ]
  },
  {
   "cell_type": "code",
   "execution_count": null,
   "metadata": {
    "collapsed": true
   },
   "outputs": [],
   "source": []
  }
 ],
 "metadata": {
  "kernelspec": {
   "display_name": "Python 3",
   "language": "python",
   "name": "python3"
  },
  "language_info": {
   "codemirror_mode": {
    "name": "ipython",
    "version": 3
   },
   "file_extension": ".py",
   "mimetype": "text/x-python",
   "name": "python",
   "nbconvert_exporter": "python",
   "pygments_lexer": "ipython3",
   "version": "3.5.4"
  }
 },
 "nbformat": 4,
 "nbformat_minor": 0
}
