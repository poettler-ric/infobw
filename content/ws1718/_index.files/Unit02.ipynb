{
 "cells": [
  {
   "cell_type": "markdown",
   "metadata": {},
   "source": [
    "# Unit 02\n",
    "\n",
    "## Statements\n",
    "\n",
    "A program consists of multiple statements executed one after the other."
   ]
  },
  {
   "cell_type": "code",
   "execution_count": 15,
   "metadata": {},
   "outputs": [
    {
     "name": "stdout",
     "output_type": "stream",
     "text": [
      "hello world\n",
      "second line\n",
      "11\n"
     ]
    }
   ],
   "source": [
    "# This is a comment\n",
    "print(\"hello world\")\n",
    "print(\"second line\")\n",
    "print(5 + 6)"
   ]
  },
  {
   "cell_type": "markdown",
   "metadata": {},
   "source": [
    "This can be combined as needed:"
   ]
  },
  {
   "cell_type": "code",
   "execution_count": 22,
   "metadata": {},
   "outputs": [
    {
     "name": "stdout",
     "output_type": "stream",
     "text": [
      "There are 21 persons in the room\n"
     ]
    }
   ],
   "source": [
    "students = 20\n",
    "tutor = 1\n",
    "persons = students + tutor\n",
    "print(\"There are {} persons in the room\".format(persons))"
   ]
  },
  {
   "cell_type": "markdown",
   "metadata": {},
   "source": [
    "## Datatypes\n",
    "https://docs.python.org/3/library/stdtypes.html\n",
    "\n",
    "Variables have a name, address and value (datatype?)"
   ]
  },
  {
   "cell_type": "code",
   "execution_count": 17,
   "metadata": {},
   "outputs": [
    {
     "name": "stdout",
     "output_type": "stream",
     "text": [
      "Hello, my name is Dilbert and I am 25 years old.\n"
     ]
    }
   ],
   "source": [
    "name = \"Dilbert\"\n",
    "age = 25\n",
    "print(\"Hello, my name is {} and I am {} years old.\".format(name, age))"
   ]
  },
  {
   "cell_type": "markdown",
   "metadata": {},
   "source": [
    "You can get the type of a variable with the type() function."
   ]
  },
  {
   "cell_type": "code",
   "execution_count": 18,
   "metadata": {},
   "outputs": [
    {
     "name": "stdout",
     "output_type": "stream",
     "text": [
      "name has the value Dilbert and the type <class 'str'>.\n",
      "age has the value 25 and the type <class 'int'>.\n"
     ]
    }
   ],
   "source": [
    "print(\"name has the value {} and the type {}.\".format(name, type(name)))\n",
    "print(\"age has the value {} and the type {}.\".format(age, type(age)))"
   ]
  },
  {
   "cell_type": "markdown",
   "metadata": {},
   "source": [
    "### Booleans\n",
    "Can have values True and False"
   ]
  },
  {
   "cell_type": "code",
   "execution_count": 23,
   "metadata": {},
   "outputs": [
    {
     "name": "stdout",
     "output_type": "stream",
     "text": [
      "a: True type: <class 'bool'>\n",
      "b: False type: <class 'bool'>\n"
     ]
    }
   ],
   "source": [
    "a = True\n",
    "b = False\n",
    "\n",
    "print(\"a: {} type: {}\".format(a, type(a)))\n",
    "print(\"b: {} type: {}\".format(b, type(b)))"
   ]
  },
  {
   "cell_type": "markdown",
   "metadata": {},
   "source": [
    "This can be combined with 'not', 'and' and 'or'."
   ]
  },
  {
   "cell_type": "code",
   "execution_count": 26,
   "metadata": {},
   "outputs": [
    {
     "name": "stdout",
     "output_type": "stream",
     "text": [
      "not a: False\n",
      "a or True: True\n",
      "a and False: False\n",
      "a or b: True\n",
      "True\n",
      "False\n",
      "False\n",
      "False\n"
     ]
    }
   ],
   "source": [
    "print(\"not a: {}\".format(not a))\n",
    "print(\"a or True: {}\".format(a or True))\n",
    "print(\"a and False: {}\".format(a and False))\n",
    "print(\"a or b: {}\".format(a or b))\n",
    "\n",
    "\n",
    "print(True and True)\n",
    "print(True and False)\n",
    "print(False and True)\n",
    "print(False and False)\n"
   ]
  },
  {
   "cell_type": "markdown",
   "metadata": {},
   "source": [
    "Booleans will mostly be used for conitionals.\n",
    "\n",
    "https://docs.python.org/3/library/stdtypes.html#truth-value-testing"
   ]
  },
  {
   "cell_type": "code",
   "execution_count": 29,
   "metadata": {},
   "outputs": [
    {
     "name": "stdout",
     "output_type": "stream",
     "text": [
      "5 == 5: True, type: <class 'bool'>\n",
      "0 == False: True\n",
      "True\n"
     ]
    }
   ],
   "source": [
    "print(\"5 == 5: {}, type: {}\".format(5 == 5, type(5==5)))\n",
    "print(\"0 == False: {}\".format(0 == False))\n",
    "print(not \"\")"
   ]
  },
  {
   "cell_type": "markdown",
   "metadata": {},
   "source": [
    "### Numbers\n",
    "In Python 3 there are no long numbers any more (https://www.python.org/dev/peps/pep-0237/)."
   ]
  },
  {
   "cell_type": "code",
   "execution_count": 36,
   "metadata": {},
   "outputs": [
    {
     "name": "stdout",
     "output_type": "stream",
     "text": [
      "i: 5 type: <class 'int'>\n",
      "j: 10.1 type: <class 'float'>\n"
     ]
    }
   ],
   "source": [
    "# Numbers: int, float\n",
    "i = 5 # integer\n",
    "j = 10.1 #float\n",
    "# type() returns the type of an expression\n",
    "print(\"i: {} type: {}\".format(i, type(i)))\n",
    "print(\"j: {} type: {}\".format(j, type(j)))"
   ]
  },
  {
   "cell_type": "markdown",
   "metadata": {},
   "source": [
    "You can convert from one type to another. This is called explicit type casting."
   ]
  },
  {
   "cell_type": "code",
   "execution_count": 38,
   "metadata": {},
   "outputs": [
    {
     "name": "stdout",
     "output_type": "stream",
     "text": [
      "casted i -> float: 5.0 type: <class 'float'>\n",
      "casted k -> int: 10 type: <class 'int'>\n"
     ]
    }
   ],
   "source": [
    "print(\"casted i -> float: {} type: {}\".format(float(i), type(float(i))))\n",
    "print(\"casted k -> int: {} type: {}\".format(int(j), type(int(j))))"
   ]
  },
  {
   "cell_type": "markdown",
   "metadata": {},
   "source": [
    "Typecasts can be implicit."
   ]
  },
  {
   "cell_type": "code",
   "execution_count": 40,
   "metadata": {},
   "outputs": [
    {
     "name": "stdout",
     "output_type": "stream",
     "text": [
      "5 / 2 = 2.5 (<class 'float'>)\n"
     ]
    }
   ],
   "source": [
    "print(\"5 / 2 = {} ({})\".format(5/2, type(5/2)))"
   ]
  },
  {
   "cell_type": "markdown",
   "metadata": {},
   "source": [
    "But:"
   ]
  },
  {
   "cell_type": "code",
   "execution_count": 42,
   "metadata": {},
   "outputs": [
    {
     "name": "stdout",
     "output_type": "stream",
     "text": [
      "5 / 2 = 2 (<class 'int'>)\n"
     ]
    }
   ],
   "source": [
    "print(\"5 / 2 = {} ({})\".format(int(5/2), type(int(5/2))))"
   ]
  },
  {
   "cell_type": "markdown",
   "metadata": {},
   "source": [
    "#### Operators\n",
    "Python knows operators like: + - * ** / % () :"
   ]
  },
  {
   "cell_type": "code",
   "execution_count": 48,
   "metadata": {},
   "outputs": [
    {
     "name": "stdout",
     "output_type": "stream",
     "text": [
      "(4 + 3) * 6 / 7 - 10 = -4.0\n",
      "2^3 = 8\n",
      "negate: -5\n",
      "modulo (remainder of 17 / 5): 2\n"
     ]
    }
   ],
   "source": [
    "print(\"(4 + 3) * 6 / 7 - 10 = {}\".format((4 + 3) * 6 / 7 - 10))\n",
    "print(\"2^3 = {}\".format(2**3))\n",
    "print(\"negate: {}\".format(-i))\n",
    "print(\"modulo (remainder of 17 / 5): {}\".format(17 % 5))"
   ]
  },
  {
   "cell_type": "markdown",
   "metadata": {},
   "source": [
    "And some shorhands:"
   ]
  },
  {
   "cell_type": "code",
   "execution_count": 50,
   "metadata": {},
   "outputs": [
    {
     "name": "stdout",
     "output_type": "stream",
     "text": [
      "c = 10\n"
     ]
    }
   ],
   "source": [
    "c = 5\n",
    "c += 5 # shorthand for c = c + 2\n",
    "c -= 5\n",
    "c *= 2\n",
    "print(\"c = {}\".format(c))"
   ]
  },
  {
   "cell_type": "markdown",
   "metadata": {},
   "source": [
    "And comparison operators (== != < > <= >=):"
   ]
  },
  {
   "cell_type": "code",
   "execution_count": 54,
   "metadata": {},
   "outputs": [
    {
     "name": "stdout",
     "output_type": "stream",
     "text": [
      "i == 10 -> False\n",
      "i != 5 -> False\n",
      "i < 15 -> True\n",
      "i > 5 -> False\n",
      "i <= 10 -> True\n",
      "i >= 10 -> False\n"
     ]
    }
   ],
   "source": [
    "print(\"i == 10 -> {}\".format(i == 10))\n",
    "print(\"i != 5 -> {}\".format(i != 5))\n",
    "print(\"i < 15 -> {}\".format(i < 15))\n",
    "print(\"i > 5 -> {}\".format(i > 5))\n",
    "print(\"i <= 10 -> {}\".format(i <= 10))\n",
    "print(\"i >= 10 -> {}\".format(i >= 10))"
   ]
  },
  {
   "cell_type": "markdown",
   "metadata": {},
   "source": [
    "## Strings\n",
    "\n",
    "Strings are list of characters.\n",
    "A character is a letter.\n",
    "\n",
    "https://docs.python.org/3/library/stdtypes.html#string-methods\n",
    "\n",
    "https://docs.python.org/3/library/string.html#format-string-syntax"
   ]
  },
  {
   "cell_type": "code",
   "execution_count": 57,
   "metadata": {},
   "outputs": [
    {
     "name": "stdout",
     "output_type": "stream",
     "text": [
      "8\n",
      "44\n",
      "44\n",
      "hello world\n",
      "====================\n",
      "Hello World\n",
      "UPPERlower\n",
      "True\n",
      "True\n",
      "2\n",
      "Centimeter\n",
      "True\n"
     ]
    }
   ],
   "source": [
    "string1 = \"hello\"\n",
    "string2 = \"world\"\n",
    "\n",
    "number = 4\n",
    "number2 = \"4\"\n",
    "\n",
    "print(number + number)\n",
    "print(number2 + number2)\n",
    "print(str(number) + number2)\n",
    "\n",
    "print(string1 + \" \" + string2)\n",
    "print(\"=\" * 20)\n",
    "print(string1.capitalize() + \" \" + string2.capitalize())\n",
    "print(\"upper\".upper() + \"LOWER\".lower())\n",
    "print(string1.startswith(\"hel\"))\n",
    "print(string1.endswith(\"lo\"))\n",
    "print(string1.find(\"ll\")) # retunrs index or -1 if not found\n",
    "\n",
    "cent = \"Centimeter\"\n",
    "print(cent)\n",
    "print(cent.lower() == \"centimeter\")"
   ]
  },
  {
   "cell_type": "markdown",
   "metadata": {},
   "source": [
    "## Builtin Funcitons\n",
    "\n",
    "https://docs.python.org/3/library/functions.html#built-in-funcs"
   ]
  },
  {
   "cell_type": "code",
   "execution_count": 61,
   "metadata": {},
   "outputs": [
    {
     "name": "stdout",
     "output_type": "stream",
     "text": [
      "3\n",
      "5\n",
      "7\n"
     ]
    }
   ],
   "source": [
    "print(abs(-3))\n",
    "print(min(5, 7))\n",
    "print(max((5, 7)))"
   ]
  },
  {
   "cell_type": "markdown",
   "metadata": {},
   "source": [
    "## Programming example\n",
    "Compute the volume of a body"
   ]
  },
  {
   "cell_type": "code",
   "execution_count": null,
   "metadata": {},
   "outputs": [],
   "source": [
    "height = float(input(\"height: \"))\n",
    "width = float(input(\"width: \"))\n",
    "depth = float(input(\"depth: \"))\n",
    "volume = height * width * depth\n",
    "print(\"the volume is {}.\".format(volume))"
   ]
  },
  {
   "cell_type": "markdown",
   "metadata": {},
   "source": [
    "## Student example\n",
    "Write a program to convert from kilometers to nautical miles (=1852m).\n",
    "* Read kilometers from stdin\n",
    "* Convert it to a float\n",
    "* Print the conversion result to stdout"
   ]
  },
  {
   "cell_type": "code",
   "execution_count": null,
   "metadata": {},
   "outputs": [],
   "source": [
    "units = [\"km\", \"sm\"]\n",
    "print(\"from:\")\n",
    "for i in range(len(units)):\n",
    "    print(\"{} {}\".format(i, units[i]))\n"
   ]
  },
  {
   "cell_type": "code",
   "execution_count": null,
   "metadata": {
    "collapsed": true
   },
   "outputs": [],
   "source": []
  }
 ],
 "metadata": {
  "kernelspec": {
   "display_name": "Python 3",
   "language": "python",
   "name": "python3"
  },
  "language_info": {
   "codemirror_mode": {
    "name": "ipython",
    "version": 3
   },
   "file_extension": ".py",
   "mimetype": "text/x-python",
   "name": "python",
   "nbconvert_exporter": "python",
   "pygments_lexer": "ipython3",
   "version": "3.6.6"
  }
 },
 "nbformat": 4,
 "nbformat_minor": 1
}
