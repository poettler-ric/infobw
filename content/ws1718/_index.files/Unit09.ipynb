{
 "cells": [
  {
   "cell_type": "markdown",
   "metadata": {},
   "source": [
    "# Unit 09\n",
    "\n",
    "## Reminder\n",
    "\n",
    "- Evaluation\n",
    "- Exercise interview"
   ]
  },
  {
   "cell_type": "markdown",
   "metadata": {},
   "source": [
    "## if-else shortcut"
   ]
  },
  {
   "cell_type": "code",
   "execution_count": 25,
   "metadata": {
    "collapsed": false
   },
   "outputs": [
    {
     "name": "stdout",
     "output_type": "stream",
     "text": [
      "a\n"
     ]
    }
   ],
   "source": [
    "c = \"\"\n",
    "condition = True\n",
    "if condition:\n",
    "    c = \"a\"\n",
    "else:\n",
    "    c = \"b\"\n",
    "print(c)"
   ]
  },
  {
   "cell_type": "markdown",
   "metadata": {},
   "source": [
    "Can be written as:"
   ]
  },
  {
   "cell_type": "code",
   "execution_count": 26,
   "metadata": {
    "collapsed": false
   },
   "outputs": [
    {
     "name": "stdout",
     "output_type": "stream",
     "text": [
      "a\n"
     ]
    }
   ],
   "source": [
    "condition = True\n",
    "c = \"a\" if condition else \"b\"\n",
    "print(c)"
   ]
  },
  {
   "cell_type": "markdown",
   "metadata": {},
   "source": [
    "## Exception handling\n",
    "\n",
    "Exceptions are thrown when something unexpected happens. E.g. when reading from a network source and the connection is lost. If the connection is not handled it will cause the program to abort."
   ]
  },
  {
   "cell_type": "code",
   "execution_count": 1,
   "metadata": {
    "collapsed": false
   },
   "outputs": [
    {
     "name": "stdout",
     "output_type": "stream",
     "text": [
      "trying to cast '2'\n",
      "successfull cast\n",
      "this will always be executed\n",
      "=====\n",
      "trying to cast 'asdf'\n",
      "casting 'asdf' didn't work\n",
      "this will always be executed\n"
     ]
    },
    {
     "ename": "ValueError",
     "evalue": "invalid literal for int() with base 10: 'asdf'",
     "output_type": "error",
     "traceback": [
      "\u001b[1;31m---------------------------------------------------------------------------\u001b[0m",
      "\u001b[1;31mValueError\u001b[0m                                Traceback (most recent call last)",
      "\u001b[1;32m<ipython-input-1-2a3bb054b3df>\u001b[0m in \u001b[0;36m<module>\u001b[1;34m()\u001b[0m\n\u001b[0;32m     18\u001b[0m \u001b[1;33m\u001b[0m\u001b[0m\n\u001b[0;32m     19\u001b[0m \u001b[1;31m# not handled exception\u001b[0m\u001b[1;33m\u001b[0m\u001b[1;33m\u001b[0m\u001b[0m\n\u001b[1;32m---> 20\u001b[1;33m \u001b[0munhandled_int\u001b[0m\u001b[1;33m(\u001b[0m\u001b[1;34m\"asdf\"\u001b[0m\u001b[1;33m)\u001b[0m \u001b[1;31m# a stack trace will be printed to narrow down the problem\u001b[0m\u001b[1;33m\u001b[0m\u001b[0m\n\u001b[0m",
      "\u001b[1;32m<ipython-input-1-2a3bb054b3df>\u001b[0m in \u001b[0;36munhandled_int\u001b[1;34m(s)\u001b[0m\n\u001b[0;32m     11\u001b[0m \u001b[1;33m\u001b[0m\u001b[0m\n\u001b[0;32m     12\u001b[0m \u001b[1;32mdef\u001b[0m \u001b[0munhandled_int\u001b[0m\u001b[1;33m(\u001b[0m\u001b[0ms\u001b[0m\u001b[1;33m)\u001b[0m\u001b[1;33m:\u001b[0m\u001b[1;33m\u001b[0m\u001b[0m\n\u001b[1;32m---> 13\u001b[1;33m     \u001b[0mint\u001b[0m\u001b[1;33m(\u001b[0m\u001b[0ms\u001b[0m\u001b[1;33m)\u001b[0m\u001b[1;33m\u001b[0m\u001b[0m\n\u001b[0m\u001b[0;32m     14\u001b[0m \u001b[1;33m\u001b[0m\u001b[0m\n\u001b[0;32m     15\u001b[0m \u001b[0mhandled_int\u001b[0m\u001b[1;33m(\u001b[0m\u001b[1;34m\"2\"\u001b[0m\u001b[1;33m)\u001b[0m\u001b[1;33m\u001b[0m\u001b[0m\n",
      "\u001b[1;31mValueError\u001b[0m: invalid literal for int() with base 10: 'asdf'"
     ]
    }
   ],
   "source": [
    "def handled_int(s):\n",
    "    try:\n",
    "        print(\"trying to cast '{}'\".format(s))\n",
    "        int(s)\n",
    "        print(\"successfull cast\")\n",
    "    except ValueError:\n",
    "        print(\"casting '{}' didn't work\".format(s))\n",
    "    finally:\n",
    "        print(\"this will always be executed\")\n",
    "        \n",
    "        \n",
    "def unhandled_int(s):\n",
    "    int(s)\n",
    "        \n",
    "handled_int(\"2\")\n",
    "print(\"=\"*5)\n",
    "handled_int(\"asdf\")\n",
    "\n",
    "# not handled exception\n",
    "unhandled_int(\"asdf\") # a stack trace will be printed to narrow down the problem"
   ]
  },
  {
   "cell_type": "markdown",
   "metadata": {},
   "source": [
    "## with statement - contextmanager\n",
    "\n",
    "https://www.python.org/dev/peps/pep-0343/\n",
    "\n",
    "Mostly used when an exception could be thrown but will not be handled.\n",
    "\n",
    "E.g. it is important to close a file after usage to free up system resources."
   ]
  },
  {
   "cell_type": "code",
   "execution_count": 2,
   "metadata": {
    "collapsed": false
   },
   "outputs": [
    {
     "name": "stdout",
     "output_type": "stream",
     "text": [
      "file to open: /tmp/test.txt\n",
      "test\n",
      "it\n"
     ]
    }
   ],
   "source": [
    "filename = input(\"file to open: \")\n",
    "try:\n",
    "    f = open(filename)\n",
    "    for l in f:\n",
    "        print(l.strip())\n",
    "finally:\n",
    "    f.close()"
   ]
  },
  {
   "cell_type": "markdown",
   "metadata": {},
   "source": [
    "This could also be written as:"
   ]
  },
  {
   "cell_type": "code",
   "execution_count": null,
   "metadata": {
    "collapsed": false
   },
   "outputs": [],
   "source": [
    "filename = input(\"file to open: \")\n",
    "with open(filename) as f:\n",
    "    for l in f:\n",
    "        print(l.strip())"
   ]
  },
  {
   "cell_type": "markdown",
   "metadata": {},
   "source": [
    "ContextManagers can be implemented as needed :"
   ]
  },
  {
   "cell_type": "code",
   "execution_count": 3,
   "metadata": {
    "collapsed": false
   },
   "outputs": [
    {
     "name": "stdout",
     "output_type": "stream",
     "text": [
      "richi was born\n",
      "<Person with name: richi> is alive\n",
      "richi died\n"
     ]
    }
   ],
   "source": [
    "class Person:\n",
    "    def __init__(self, name):\n",
    "        self.name = name\n",
    "\n",
    "    def __str__(self):\n",
    "        \"\"\"Returns a string representation of the object.\"\"\"\n",
    "        \n",
    "        return \"<Person with name: {}>\".format(self.name)\n",
    "\n",
    "    def __enter__(self):\n",
    "        \"\"\"Will be executed when the with block is entered.\"\"\"\n",
    "        \n",
    "        print(\"{} was born\".format(self.name))\n",
    "        return self\n",
    "\n",
    "    def __exit__(self, exc_type, exc_value, traceback):\n",
    "        \"\"\"Will be executed whtn the with block is exited.\"\"\"\n",
    "        \n",
    "        print(\"{} died\".format(self.name))\n",
    "\n",
    "with Person(\"richi\") as p:\n",
    "    print(\"{} is alive\".format(p))\n"
   ]
  },
  {
   "cell_type": "markdown",
   "metadata": {},
   "source": [
    "## Student Task\n",
    "\n",
    "Write a function which replaces '#' with spaces and double ' ' with single ones."
   ]
  },
  {
   "cell_type": "code",
   "execution_count": 16,
   "metadata": {
    "collapsed": false
   },
   "outputs": [
    {
     "name": "stdout",
     "output_type": "stream",
     "text": [
      "True\n"
     ]
    }
   ],
   "source": [
    "TO_REPLACE = (\" \", \"#\")\n",
    "\n",
    "def correct_sentence(sentence):\n",
    "    result = \"\"\n",
    "    replaced = False\n",
    "    \n",
    "    for c in sentence:\n",
    "        if c in TO_REPLACE:\n",
    "            c = \" \" if not replaced else \"\"\n",
    "            replaced = True\n",
    "        else:\n",
    "            replaced = False\n",
    "        result += c\n",
    "    return result\n",
    "\n",
    "print(correct_sentence(\"hello world ## test\") == \"hello world test\")"
   ]
  },
  {
   "cell_type": "code",
   "execution_count": null,
   "metadata": {
    "collapsed": true
   },
   "outputs": [],
   "source": []
  }
 ],
 "metadata": {
  "kernelspec": {
   "display_name": "Python 3",
   "language": "python",
   "name": "python3"
  },
  "language_info": {
   "codemirror_mode": {
    "name": "ipython",
    "version": 3
   },
   "file_extension": ".py",
   "mimetype": "text/x-python",
   "name": "python",
   "nbconvert_exporter": "python",
   "pygments_lexer": "ipython3",
   "version": "3.5.4"
  }
 },
 "nbformat": 4,
 "nbformat_minor": 0
}
